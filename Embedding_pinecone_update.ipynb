{
 "cells": [
  {
   "cell_type": "markdown",
   "id": "bac6528d-b3fc-4911-a2af-7f8a0c75a295",
   "metadata": {},
   "source": [
    "# 데이터 전처리 및 임베딩 벡터 뽑기"
   ]
  },
  {
   "cell_type": "code",
   "execution_count": 1,
   "id": "76bc608f-cdc5-407e-b2b9-88c0976aff14",
   "metadata": {},
   "outputs": [],
   "source": [
    "from openai import OpenAI\n",
    "from getpass import getpass\n",
    "from tqdm.notebook import tqdm"
   ]
  },
  {
   "cell_type": "code",
   "execution_count": 17,
   "id": "7603d7c7-a212-4875-91c6-52982817c9d9",
   "metadata": {},
   "outputs": [
    {
     "name": "stdin",
     "output_type": "stream",
     "text": [
      "OPENAI_API_KEY ········\n"
     ]
    }
   ],
   "source": [
    "api_key=getpass(\"OPENAI_API_KEY\")"
   ]
  },
  {
   "cell_type": "code",
   "execution_count": 18,
   "id": "472a2f44-ad27-4ada-98af-6f1cd615b421",
   "metadata": {},
   "outputs": [],
   "source": [
    "client = OpenAI(api_key=api_key)"
   ]
  },
  {
   "cell_type": "code",
   "execution_count": 17,
   "id": "65f9588a-15e5-4e27-b95a-d13a5e0768fd",
   "metadata": {},
   "outputs": [],
   "source": [
    "import pandas as pd\n",
    "\n",
    "df = pd.read_csv('./crawling/data/suncushion_reviews.csv', encoding='utf-8')"
   ]
  },
  {
   "cell_type": "code",
   "execution_count": 18,
   "id": "2fec8910-283d-4f45-a077-9310d6ffcc13",
   "metadata": {},
   "outputs": [],
   "source": [
    "df = df.drop([\"title\"], axis = 1)"
   ]
  },
  {
   "cell_type": "code",
   "execution_count": 19,
   "id": "240a7b6f-cb0f-474e-8c04-5730a8b8f4cd",
   "metadata": {},
   "outputs": [
    {
     "data": {
      "application/vnd.jupyter.widget-view+json": {
       "model_id": "c6688854fcc3451b94add41e46823e34",
       "version_major": 2,
       "version_minor": 0
      },
      "text/plain": [
       "  0%|          | 0/15338 [00:00<?, ?it/s]"
      ]
     },
     "metadata": {},
     "output_type": "display_data"
    }
   ],
   "source": [
    "tqdm.pandas()\n",
    "df[\"skin_type\"] = df[\"skin_type\"].progress_apply(lambda x: eval(x))"
   ]
  },
  {
   "cell_type": "code",
   "execution_count": 20,
   "id": "684f407c-6401-4056-9391-67c4734c8b61",
   "metadata": {},
   "outputs": [],
   "source": [
    "tmp = []\n",
    "for i, type_ in enumerate(df[\"skin_type\"]):\n",
    "    tmp.append(\" \".join(type_))"
   ]
  },
  {
   "cell_type": "code",
   "execution_count": 21,
   "id": "dbfac6d5-e669-49c7-a665-d834b12513e2",
   "metadata": {},
   "outputs": [],
   "source": [
    "df[\"skintype\"] = tmp"
   ]
  },
  {
   "cell_type": "code",
   "execution_count": 22,
   "id": "0895e7c0-474b-4a29-abc0-2a239fe15ee9",
   "metadata": {},
   "outputs": [
    {
     "data": {
      "text/html": [
       "<div>\n",
       "<style scoped>\n",
       "    .dataframe tbody tr th:only-of-type {\n",
       "        vertical-align: middle;\n",
       "    }\n",
       "\n",
       "    .dataframe tbody tr th {\n",
       "        vertical-align: top;\n",
       "    }\n",
       "\n",
       "    .dataframe thead th {\n",
       "        text-align: right;\n",
       "    }\n",
       "</style>\n",
       "<table border=\"1\" class=\"dataframe\">\n",
       "  <thead>\n",
       "    <tr style=\"text-align: right;\">\n",
       "      <th></th>\n",
       "      <th>page</th>\n",
       "      <th>product_name</th>\n",
       "      <th>review</th>\n",
       "      <th>skin_type</th>\n",
       "      <th>skintype</th>\n",
       "    </tr>\n",
       "  </thead>\n",
       "  <tbody>\n",
       "    <tr>\n",
       "      <th>0</th>\n",
       "      <td>1</td>\n",
       "      <td>식물나라 뽀얀쌀 생기 톤업 선쿠션 보노보노 기획 2종 (01호/02호)</td>\n",
       "      <td>선쿠션 다써봐도 무조건 다시 이거처음 출시때부터 쓰고있어요!!뽀얀쌀생기톤업선쿠션솔직...</td>\n",
       "      <td>[복합성, 여름쿨톤, 다크서클, 민감성]</td>\n",
       "      <td>복합성 여름쿨톤 다크서클 민감성</td>\n",
       "    </tr>\n",
       "    <tr>\n",
       "      <th>1</th>\n",
       "      <td>1</td>\n",
       "      <td>식물나라 뽀얀쌀 생기 톤업 선쿠션 보노보노 기획 2종 (01호/02호)</td>\n",
       "      <td>매번 구매하고 있는 제품입니다!! ㅎㅎ다른 분들에게도 강력 추천드리고 싶습니다!!</td>\n",
       "      <td>[지성, 가을웜톤, 다크서클, 모공]</td>\n",
       "      <td>지성 가을웜톤 다크서클 모공</td>\n",
       "    </tr>\n",
       "    <tr>\n",
       "      <th>2</th>\n",
       "      <td>1</td>\n",
       "      <td>식물나라 뽀얀쌀 생기 톤업 선쿠션 보노보노 기획 2종 (01호/02호)</td>\n",
       "      <td>🔥매일 사용한 솔직후기 입니다🔥👍간단요약1. 톤업 엄청난편 칙칙한 얼굴 1초만에 화...</td>\n",
       "      <td>[건성, 봄웜톤, 모공, 탄력]</td>\n",
       "      <td>건성 봄웜톤 모공 탄력</td>\n",
       "    </tr>\n",
       "    <tr>\n",
       "      <th>3</th>\n",
       "      <td>1</td>\n",
       "      <td>식물나라 뽀얀쌀 생기 톤업 선쿠션 보노보노 기획 2종 (01호/02호)</td>\n",
       "      <td>올리브영 제품은 항상 냉장고에 넣고 사용중이에요 화장품냉장고 용량이 작아서 어쩔수가...</td>\n",
       "      <td>[민감성, 여름쿨톤, 트러블]</td>\n",
       "      <td>민감성 여름쿨톤 트러블</td>\n",
       "    </tr>\n",
       "    <tr>\n",
       "      <th>4</th>\n",
       "      <td>1</td>\n",
       "      <td>식물나라 뽀얀쌀 생기 톤업 선쿠션 보노보노 기획 2종 (01호/02호)</td>\n",
       "      <td>1호는 많이바르면 살짝 백탁현상일어나는거같긴한데 그래도 파데프리하기좋아요 ㅎ</td>\n",
       "      <td>[]</td>\n",
       "      <td></td>\n",
       "    </tr>\n",
       "    <tr>\n",
       "      <th>...</th>\n",
       "      <td>...</td>\n",
       "      <td>...</td>\n",
       "      <td>...</td>\n",
       "      <td>...</td>\n",
       "      <td>...</td>\n",
       "    </tr>\n",
       "    <tr>\n",
       "      <th>15333</th>\n",
       "      <td>31</td>\n",
       "      <td>김정문알로에 큐어 아쿠아 마일드 쿨링 선쿠션 리필 기획(25g+리필)</td>\n",
       "      <td>친구가 쓰는거 써보고 주문했어요자극없이 얼굴에도 몸에도 다 사용할 수 있어서 좋아요</td>\n",
       "      <td>[]</td>\n",
       "      <td></td>\n",
       "    </tr>\n",
       "    <tr>\n",
       "      <th>15334</th>\n",
       "      <td>31</td>\n",
       "      <td>김정문알로에 큐어 아쿠아 마일드 쿨링 선쿠션 리필 기획(25g+리필)</td>\n",
       "      <td>이거 생각보다 좋아요여름이라 번들거리는 선크림 싫어서 찾아보다가완전득템했어요 사계절...</td>\n",
       "      <td>[]</td>\n",
       "      <td></td>\n",
       "    </tr>\n",
       "    <tr>\n",
       "      <th>15335</th>\n",
       "      <td>32</td>\n",
       "      <td>김정문알로에 큐어 아쿠아 마일드 쿨링 선쿠션 리필 기획(25g+리필)</td>\n",
       "      <td>크다크다 후기 보고 샀는데도 놀랬네요 통이 커서 거울도 커서 좋아요 백탁 얘기가 있...</td>\n",
       "      <td>[]</td>\n",
       "      <td></td>\n",
       "    </tr>\n",
       "    <tr>\n",
       "      <th>15336</th>\n",
       "      <td>32</td>\n",
       "      <td>김정문알로에 큐어 아쿠아 마일드 쿨링 선쿠션 리필 기획(25g+리필)</td>\n",
       "      <td>여행가기전 구매했어요. 쿠션이라 편하게 사용할 수 있어 좋은거 같아요.</td>\n",
       "      <td>[]</td>\n",
       "      <td></td>\n",
       "    </tr>\n",
       "    <tr>\n",
       "      <th>15337</th>\n",
       "      <td>32</td>\n",
       "      <td>김정문알로에 큐어 아쿠아 마일드 쿨링 선쿠션 리필 기획(25g+리필)</td>\n",
       "      <td>화장하고 썬크림 덧바를 용도로 샀는데 백탁이 너무 심해서 당황했습니다.수정화장용으로...</td>\n",
       "      <td>[]</td>\n",
       "      <td></td>\n",
       "    </tr>\n",
       "  </tbody>\n",
       "</table>\n",
       "<p>15338 rows × 5 columns</p>\n",
       "</div>"
      ],
      "text/plain": [
       "       page                             product_name  \\\n",
       "0         1  식물나라 뽀얀쌀 생기 톤업 선쿠션 보노보노 기획 2종 (01호/02호)   \n",
       "1         1  식물나라 뽀얀쌀 생기 톤업 선쿠션 보노보노 기획 2종 (01호/02호)   \n",
       "2         1  식물나라 뽀얀쌀 생기 톤업 선쿠션 보노보노 기획 2종 (01호/02호)   \n",
       "3         1  식물나라 뽀얀쌀 생기 톤업 선쿠션 보노보노 기획 2종 (01호/02호)   \n",
       "4         1  식물나라 뽀얀쌀 생기 톤업 선쿠션 보노보노 기획 2종 (01호/02호)   \n",
       "...     ...                                      ...   \n",
       "15333    31   김정문알로에 큐어 아쿠아 마일드 쿨링 선쿠션 리필 기획(25g+리필)   \n",
       "15334    31   김정문알로에 큐어 아쿠아 마일드 쿨링 선쿠션 리필 기획(25g+리필)   \n",
       "15335    32   김정문알로에 큐어 아쿠아 마일드 쿨링 선쿠션 리필 기획(25g+리필)   \n",
       "15336    32   김정문알로에 큐어 아쿠아 마일드 쿨링 선쿠션 리필 기획(25g+리필)   \n",
       "15337    32   김정문알로에 큐어 아쿠아 마일드 쿨링 선쿠션 리필 기획(25g+리필)   \n",
       "\n",
       "                                                  review  \\\n",
       "0      선쿠션 다써봐도 무조건 다시 이거처음 출시때부터 쓰고있어요!!뽀얀쌀생기톤업선쿠션솔직...   \n",
       "1          매번 구매하고 있는 제품입니다!! ㅎㅎ다른 분들에게도 강력 추천드리고 싶습니다!!   \n",
       "2      🔥매일 사용한 솔직후기 입니다🔥👍간단요약1. 톤업 엄청난편 칙칙한 얼굴 1초만에 화...   \n",
       "3      올리브영 제품은 항상 냉장고에 넣고 사용중이에요 화장품냉장고 용량이 작아서 어쩔수가...   \n",
       "4             1호는 많이바르면 살짝 백탁현상일어나는거같긴한데 그래도 파데프리하기좋아요 ㅎ   \n",
       "...                                                  ...   \n",
       "15333     친구가 쓰는거 써보고 주문했어요자극없이 얼굴에도 몸에도 다 사용할 수 있어서 좋아요   \n",
       "15334  이거 생각보다 좋아요여름이라 번들거리는 선크림 싫어서 찾아보다가완전득템했어요 사계절...   \n",
       "15335  크다크다 후기 보고 샀는데도 놀랬네요 통이 커서 거울도 커서 좋아요 백탁 얘기가 있...   \n",
       "15336            여행가기전 구매했어요. 쿠션이라 편하게 사용할 수 있어 좋은거 같아요.   \n",
       "15337  화장하고 썬크림 덧바를 용도로 샀는데 백탁이 너무 심해서 당황했습니다.수정화장용으로...   \n",
       "\n",
       "                    skin_type           skintype  \n",
       "0      [복합성, 여름쿨톤, 다크서클, 민감성]  복합성 여름쿨톤 다크서클 민감성  \n",
       "1        [지성, 가을웜톤, 다크서클, 모공]    지성 가을웜톤 다크서클 모공  \n",
       "2           [건성, 봄웜톤, 모공, 탄력]       건성 봄웜톤 모공 탄력  \n",
       "3            [민감성, 여름쿨톤, 트러블]       민감성 여름쿨톤 트러블  \n",
       "4                          []                     \n",
       "...                       ...                ...  \n",
       "15333                      []                     \n",
       "15334                      []                     \n",
       "15335                      []                     \n",
       "15336                      []                     \n",
       "15337                      []                     \n",
       "\n",
       "[15338 rows x 5 columns]"
      ]
     },
     "execution_count": 22,
     "metadata": {},
     "output_type": "execute_result"
    }
   ],
   "source": [
    "df"
   ]
  },
  {
   "cell_type": "code",
   "execution_count": 23,
   "id": "5882d60f-ea3b-4d77-a12b-577d8a5b8bb2",
   "metadata": {},
   "outputs": [],
   "source": [
    "df[\"review\"] = df[\"review\"] + \" \" + df[\"skintype\"]"
   ]
  },
  {
   "cell_type": "code",
   "execution_count": 24,
   "id": "50758107-1808-4b09-adf5-c1f17f5fe6a3",
   "metadata": {},
   "outputs": [],
   "source": [
    "df = df.drop([\"skintype\"], axis = 1)"
   ]
  },
  {
   "cell_type": "code",
   "execution_count": 25,
   "id": "ea27dc8e-6c67-4be5-a073-9e8a3d2c9246",
   "metadata": {},
   "outputs": [],
   "source": [
    "sample = df.iloc[3]\n",
    "sample_review = sample.review\n"
   ]
  },
  {
   "cell_type": "code",
   "execution_count": 26,
   "id": "bfc347cf-6b5d-4484-8032-7b0f9da0c94c",
   "metadata": {},
   "outputs": [
    {
     "data": {
      "text/plain": [
       "'올리브영 제품은 항상 냉장고에 넣고 사용중이에요 화장품냉장고 용량이 작아서 어쩔수가 없네요  일단 이번 제품은 몸에 잘 맞는것 같아요  물론 조금더 사용 해봐야겠지만  며칠 써본 것을 말씀 드리면 일단 얼굴에 과 몸에 잘 맞아요  그리고 일단 트러블이 없어요 트라블이 없다늠것은 엄청 좋은 장점이라 생각해요 요즘 세상이 참 사람들이 이상하고 이상한 제품도 많은데 올리브영은 그렇지 않은것 같아요 항상 그렇게 느껴요 두번째 끈적임이 전혀 없어요  끈적임이 있으면 얼굴에 바르던 다른곳 어디에 바르던 찝찝할텐데 올리브영 제품은 그렇지가 않아서 좋아요  가장 큰 장점인것 같아요  세번째는 그냥저냥 가격이 저렴하다는 거에요  많이6 사놓고 싶지만 그럴수 없는것이 좀 안타깝긴 하지만  제품이 좋아서 그냥 쓰는 편이에요  네번째  쉽게 변질되지 않는것 같아요 아무리 냉장고에 넣어놔도 제품이 별루면 변질 되기 쉬운데  올리브영 제품은  일방적으로 좋어요  일단 제 피부의 유연성이나 부드러움이 많이 개선 되었습니다 눈에 따는 피부 곳곳이 부드럽고 트러블이 없어 졌습니다 항상 잘 사용 하고 있어서 기분이 좋습니다 민감성 여름쿨톤 트러블'"
      ]
     },
     "execution_count": 26,
     "metadata": {},
     "output_type": "execute_result"
    }
   ],
   "source": [
    "sample_review"
   ]
  },
  {
   "cell_type": "code",
   "execution_count": 27,
   "id": "327ff7e5-2c7a-49cf-9f7c-86b274df79ce",
   "metadata": {},
   "outputs": [
    {
     "data": {
      "text/html": [
       "<div>\n",
       "<style scoped>\n",
       "    .dataframe tbody tr th:only-of-type {\n",
       "        vertical-align: middle;\n",
       "    }\n",
       "\n",
       "    .dataframe tbody tr th {\n",
       "        vertical-align: top;\n",
       "    }\n",
       "\n",
       "    .dataframe thead th {\n",
       "        text-align: right;\n",
       "    }\n",
       "</style>\n",
       "<table border=\"1\" class=\"dataframe\">\n",
       "  <thead>\n",
       "    <tr style=\"text-align: right;\">\n",
       "      <th></th>\n",
       "      <th>page</th>\n",
       "      <th>product_name</th>\n",
       "      <th>review</th>\n",
       "      <th>skin_type</th>\n",
       "    </tr>\n",
       "  </thead>\n",
       "  <tbody>\n",
       "    <tr>\n",
       "      <th>0</th>\n",
       "      <td>1</td>\n",
       "      <td>식물나라 뽀얀쌀 생기 톤업 선쿠션 보노보노 기획 2종 (01호/02호)</td>\n",
       "      <td>선쿠션 다써봐도 무조건 다시 이거처음 출시때부터 쓰고있어요!!뽀얀쌀생기톤업선쿠션솔직...</td>\n",
       "      <td>[복합성, 여름쿨톤, 다크서클, 민감성]</td>\n",
       "    </tr>\n",
       "    <tr>\n",
       "      <th>1</th>\n",
       "      <td>1</td>\n",
       "      <td>식물나라 뽀얀쌀 생기 톤업 선쿠션 보노보노 기획 2종 (01호/02호)</td>\n",
       "      <td>매번 구매하고 있는 제품입니다!! ㅎㅎ다른 분들에게도 강력 추천드리고 싶습니다!! ...</td>\n",
       "      <td>[지성, 가을웜톤, 다크서클, 모공]</td>\n",
       "    </tr>\n",
       "    <tr>\n",
       "      <th>2</th>\n",
       "      <td>1</td>\n",
       "      <td>식물나라 뽀얀쌀 생기 톤업 선쿠션 보노보노 기획 2종 (01호/02호)</td>\n",
       "      <td>🔥매일 사용한 솔직후기 입니다🔥👍간단요약1. 톤업 엄청난편 칙칙한 얼굴 1초만에 화...</td>\n",
       "      <td>[건성, 봄웜톤, 모공, 탄력]</td>\n",
       "    </tr>\n",
       "    <tr>\n",
       "      <th>3</th>\n",
       "      <td>1</td>\n",
       "      <td>식물나라 뽀얀쌀 생기 톤업 선쿠션 보노보노 기획 2종 (01호/02호)</td>\n",
       "      <td>올리브영 제품은 항상 냉장고에 넣고 사용중이에요 화장품냉장고 용량이 작아서 어쩔수가...</td>\n",
       "      <td>[민감성, 여름쿨톤, 트러블]</td>\n",
       "    </tr>\n",
       "    <tr>\n",
       "      <th>4</th>\n",
       "      <td>1</td>\n",
       "      <td>식물나라 뽀얀쌀 생기 톤업 선쿠션 보노보노 기획 2종 (01호/02호)</td>\n",
       "      <td>1호는 많이바르면 살짝 백탁현상일어나는거같긴한데 그래도 파데프리하기좋아요 ㅎ</td>\n",
       "      <td>[]</td>\n",
       "    </tr>\n",
       "    <tr>\n",
       "      <th>...</th>\n",
       "      <td>...</td>\n",
       "      <td>...</td>\n",
       "      <td>...</td>\n",
       "      <td>...</td>\n",
       "    </tr>\n",
       "    <tr>\n",
       "      <th>15333</th>\n",
       "      <td>31</td>\n",
       "      <td>김정문알로에 큐어 아쿠아 마일드 쿨링 선쿠션 리필 기획(25g+리필)</td>\n",
       "      <td>친구가 쓰는거 써보고 주문했어요자극없이 얼굴에도 몸에도 다 사용할 수 있어서 좋아요</td>\n",
       "      <td>[]</td>\n",
       "    </tr>\n",
       "    <tr>\n",
       "      <th>15334</th>\n",
       "      <td>31</td>\n",
       "      <td>김정문알로에 큐어 아쿠아 마일드 쿨링 선쿠션 리필 기획(25g+리필)</td>\n",
       "      <td>이거 생각보다 좋아요여름이라 번들거리는 선크림 싫어서 찾아보다가완전득템했어요 사계절...</td>\n",
       "      <td>[]</td>\n",
       "    </tr>\n",
       "    <tr>\n",
       "      <th>15335</th>\n",
       "      <td>32</td>\n",
       "      <td>김정문알로에 큐어 아쿠아 마일드 쿨링 선쿠션 리필 기획(25g+리필)</td>\n",
       "      <td>크다크다 후기 보고 샀는데도 놀랬네요 통이 커서 거울도 커서 좋아요 백탁 얘기가 있...</td>\n",
       "      <td>[]</td>\n",
       "    </tr>\n",
       "    <tr>\n",
       "      <th>15336</th>\n",
       "      <td>32</td>\n",
       "      <td>김정문알로에 큐어 아쿠아 마일드 쿨링 선쿠션 리필 기획(25g+리필)</td>\n",
       "      <td>여행가기전 구매했어요. 쿠션이라 편하게 사용할 수 있어 좋은거 같아요.</td>\n",
       "      <td>[]</td>\n",
       "    </tr>\n",
       "    <tr>\n",
       "      <th>15337</th>\n",
       "      <td>32</td>\n",
       "      <td>김정문알로에 큐어 아쿠아 마일드 쿨링 선쿠션 리필 기획(25g+리필)</td>\n",
       "      <td>화장하고 썬크림 덧바를 용도로 샀는데 백탁이 너무 심해서 당황했습니다.수정화장용으로...</td>\n",
       "      <td>[]</td>\n",
       "    </tr>\n",
       "  </tbody>\n",
       "</table>\n",
       "<p>15338 rows × 4 columns</p>\n",
       "</div>"
      ],
      "text/plain": [
       "       page                             product_name  \\\n",
       "0         1  식물나라 뽀얀쌀 생기 톤업 선쿠션 보노보노 기획 2종 (01호/02호)   \n",
       "1         1  식물나라 뽀얀쌀 생기 톤업 선쿠션 보노보노 기획 2종 (01호/02호)   \n",
       "2         1  식물나라 뽀얀쌀 생기 톤업 선쿠션 보노보노 기획 2종 (01호/02호)   \n",
       "3         1  식물나라 뽀얀쌀 생기 톤업 선쿠션 보노보노 기획 2종 (01호/02호)   \n",
       "4         1  식물나라 뽀얀쌀 생기 톤업 선쿠션 보노보노 기획 2종 (01호/02호)   \n",
       "...     ...                                      ...   \n",
       "15333    31   김정문알로에 큐어 아쿠아 마일드 쿨링 선쿠션 리필 기획(25g+리필)   \n",
       "15334    31   김정문알로에 큐어 아쿠아 마일드 쿨링 선쿠션 리필 기획(25g+리필)   \n",
       "15335    32   김정문알로에 큐어 아쿠아 마일드 쿨링 선쿠션 리필 기획(25g+리필)   \n",
       "15336    32   김정문알로에 큐어 아쿠아 마일드 쿨링 선쿠션 리필 기획(25g+리필)   \n",
       "15337    32   김정문알로에 큐어 아쿠아 마일드 쿨링 선쿠션 리필 기획(25g+리필)   \n",
       "\n",
       "                                                  review  \\\n",
       "0      선쿠션 다써봐도 무조건 다시 이거처음 출시때부터 쓰고있어요!!뽀얀쌀생기톤업선쿠션솔직...   \n",
       "1      매번 구매하고 있는 제품입니다!! ㅎㅎ다른 분들에게도 강력 추천드리고 싶습니다!! ...   \n",
       "2      🔥매일 사용한 솔직후기 입니다🔥👍간단요약1. 톤업 엄청난편 칙칙한 얼굴 1초만에 화...   \n",
       "3      올리브영 제품은 항상 냉장고에 넣고 사용중이에요 화장품냉장고 용량이 작아서 어쩔수가...   \n",
       "4            1호는 많이바르면 살짝 백탁현상일어나는거같긴한데 그래도 파데프리하기좋아요 ㅎ    \n",
       "...                                                  ...   \n",
       "15333    친구가 쓰는거 써보고 주문했어요자극없이 얼굴에도 몸에도 다 사용할 수 있어서 좋아요    \n",
       "15334  이거 생각보다 좋아요여름이라 번들거리는 선크림 싫어서 찾아보다가완전득템했어요 사계절...   \n",
       "15335  크다크다 후기 보고 샀는데도 놀랬네요 통이 커서 거울도 커서 좋아요 백탁 얘기가 있...   \n",
       "15336           여행가기전 구매했어요. 쿠션이라 편하게 사용할 수 있어 좋은거 같아요.    \n",
       "15337  화장하고 썬크림 덧바를 용도로 샀는데 백탁이 너무 심해서 당황했습니다.수정화장용으로...   \n",
       "\n",
       "                    skin_type  \n",
       "0      [복합성, 여름쿨톤, 다크서클, 민감성]  \n",
       "1        [지성, 가을웜톤, 다크서클, 모공]  \n",
       "2           [건성, 봄웜톤, 모공, 탄력]  \n",
       "3            [민감성, 여름쿨톤, 트러블]  \n",
       "4                          []  \n",
       "...                       ...  \n",
       "15333                      []  \n",
       "15334                      []  \n",
       "15335                      []  \n",
       "15336                      []  \n",
       "15337                      []  \n",
       "\n",
       "[15338 rows x 4 columns]"
      ]
     },
     "execution_count": 27,
     "metadata": {},
     "output_type": "execute_result"
    }
   ],
   "source": [
    "df"
   ]
  },
  {
   "cell_type": "code",
   "execution_count": 15,
   "id": "f3a00d5a-c42d-4e6f-a604-5d41bd579a01",
   "metadata": {},
   "outputs": [],
   "source": [
    "def extract_embedding(text_list):\n",
    "    response=client.embeddings.create(\n",
    "        input=text_list,\n",
    "        model='text-embedding-3-large',\n",
    "    )\n",
    "    embedding_list = [x.embedding for x in response.data]\n",
    "    return embedding_list"
   ]
  },
  {
   "cell_type": "code",
   "execution_count": 29,
   "id": "3ddad3d8-488d-476f-a20c-a9d262846dde",
   "metadata": {},
   "outputs": [
    {
     "data": {
      "application/vnd.jupyter.widget-view+json": {
       "model_id": "a639cb591f29472d9a57f17715c00f7c",
       "version_major": 2,
       "version_minor": 0
      },
      "text/plain": [
       "  0%|          | 0/1534 [00:00<?, ?it/s]"
      ]
     },
     "metadata": {},
     "output_type": "display_data"
    }
   ],
   "source": [
    "from tqdm.notebook import tqdm\n",
    "\n",
    "embeddings=[]\n",
    "batchsize=10\n",
    "for i in tqdm(range(0, len(df), 10)):\n",
    "    batch=df.iloc[i:i+batchsize]\n",
    "    text_list = batch['review'].tolist()\n",
    "    batch_embedding=extract_embedding(text_list)\n",
    "    embeddings.extend(batch_embedding)"
   ]
  },
  {
   "cell_type": "code",
   "execution_count": 30,
   "id": "9a9b79e1-e3ee-4c98-beac-82313e1b3547",
   "metadata": {},
   "outputs": [],
   "source": [
    "df[\"embedding\"] = embeddings"
   ]
  },
  {
   "cell_type": "code",
   "execution_count": 31,
   "id": "a8e82a5c-c25b-48ee-b71f-4abb3bed03fd",
   "metadata": {},
   "outputs": [
    {
     "data": {
      "text/plain": [
       "15338"
      ]
     },
     "execution_count": 31,
     "metadata": {},
     "output_type": "execute_result"
    }
   ],
   "source": [
    "len(embeddings)"
   ]
  },
  {
   "cell_type": "code",
   "execution_count": 32,
   "id": "3a1e36c2-1bcc-4427-8d0a-3516d4d0537f",
   "metadata": {},
   "outputs": [
    {
     "data": {
      "text/plain": [
       "3072"
      ]
     },
     "execution_count": 32,
     "metadata": {},
     "output_type": "execute_result"
    }
   ],
   "source": [
    "len(embeddings[0])"
   ]
  },
  {
   "cell_type": "code",
   "execution_count": null,
   "id": "f31bddd7-e3f1-4a9e-986b-91302f77c4f8",
   "metadata": {},
   "outputs": [],
   "source": [
    "df.to_csv(\"./suncushion_vector.csv\", encoding = \"utf-8\", index = False)"
   ]
  },
  {
   "cell_type": "code",
   "execution_count": 34,
   "id": "8c22331b-71dc-4028-aa36-6428bea7a4af",
   "metadata": {},
   "outputs": [
    {
     "data": {
      "text/plain": [
       "3072"
      ]
     },
     "execution_count": 34,
     "metadata": {},
     "output_type": "execute_result"
    }
   ],
   "source": [
    "len(df.iloc[0][\"embedding\"])"
   ]
  },
  {
   "cell_type": "code",
   "execution_count": 35,
   "id": "0fffb484-ab5d-4826-9431-574bc35c0eab",
   "metadata": {},
   "outputs": [],
   "source": [
    "tmp = []\n",
    "\n",
    "for type_ in df[\"skin_type\"]:\n",
    "    if not type_:\n",
    "        tmp.append(\"empty\")\n",
    "    else:\n",
    "        tmp.append(type_)"
   ]
  },
  {
   "cell_type": "code",
   "execution_count": 36,
   "id": "7df1a23d-fe44-49ed-9d78-2862251a16f0",
   "metadata": {},
   "outputs": [],
   "source": [
    "df = df.drop([\"skin_type\"], axis = 1)"
   ]
  },
  {
   "cell_type": "code",
   "execution_count": 37,
   "id": "e68f55ad-344f-4f2d-b99e-f93daef05236",
   "metadata": {},
   "outputs": [],
   "source": [
    "df[\"skin_type\"] = tmp"
   ]
  },
  {
   "cell_type": "code",
   "execution_count": 38,
   "id": "c0a4d730-072c-4cb2-9e56-860fb65f2749",
   "metadata": {},
   "outputs": [
    {
     "data": {
      "text/html": [
       "<div>\n",
       "<style scoped>\n",
       "    .dataframe tbody tr th:only-of-type {\n",
       "        vertical-align: middle;\n",
       "    }\n",
       "\n",
       "    .dataframe tbody tr th {\n",
       "        vertical-align: top;\n",
       "    }\n",
       "\n",
       "    .dataframe thead th {\n",
       "        text-align: right;\n",
       "    }\n",
       "</style>\n",
       "<table border=\"1\" class=\"dataframe\">\n",
       "  <thead>\n",
       "    <tr style=\"text-align: right;\">\n",
       "      <th></th>\n",
       "      <th>page</th>\n",
       "      <th>product_name</th>\n",
       "      <th>review</th>\n",
       "      <th>embedding</th>\n",
       "      <th>skin_type</th>\n",
       "    </tr>\n",
       "  </thead>\n",
       "  <tbody>\n",
       "    <tr>\n",
       "      <th>0</th>\n",
       "      <td>1</td>\n",
       "      <td>식물나라 뽀얀쌀 생기 톤업 선쿠션 보노보노 기획 2종 (01호/02호)</td>\n",
       "      <td>선쿠션 다써봐도 무조건 다시 이거처음 출시때부터 쓰고있어요!!뽀얀쌀생기톤업선쿠션솔직...</td>\n",
       "      <td>[0.048438794910907745, -0.03658457472920418, -...</td>\n",
       "      <td>[복합성, 여름쿨톤, 다크서클, 민감성]</td>\n",
       "    </tr>\n",
       "    <tr>\n",
       "      <th>1</th>\n",
       "      <td>1</td>\n",
       "      <td>식물나라 뽀얀쌀 생기 톤업 선쿠션 보노보노 기획 2종 (01호/02호)</td>\n",
       "      <td>매번 구매하고 있는 제품입니다!! ㅎㅎ다른 분들에게도 강력 추천드리고 싶습니다!! ...</td>\n",
       "      <td>[0.009942738339304924, -0.03312501683831215, -...</td>\n",
       "      <td>[지성, 가을웜톤, 다크서클, 모공]</td>\n",
       "    </tr>\n",
       "    <tr>\n",
       "      <th>2</th>\n",
       "      <td>1</td>\n",
       "      <td>식물나라 뽀얀쌀 생기 톤업 선쿠션 보노보노 기획 2종 (01호/02호)</td>\n",
       "      <td>🔥매일 사용한 솔직후기 입니다🔥👍간단요약1. 톤업 엄청난편 칙칙한 얼굴 1초만에 화...</td>\n",
       "      <td>[-0.005401344504207373, -0.029762214049696922,...</td>\n",
       "      <td>[건성, 봄웜톤, 모공, 탄력]</td>\n",
       "    </tr>\n",
       "    <tr>\n",
       "      <th>3</th>\n",
       "      <td>1</td>\n",
       "      <td>식물나라 뽀얀쌀 생기 톤업 선쿠션 보노보노 기획 2종 (01호/02호)</td>\n",
       "      <td>올리브영 제품은 항상 냉장고에 넣고 사용중이에요 화장품냉장고 용량이 작아서 어쩔수가...</td>\n",
       "      <td>[0.003224656917154789, -0.00013565854169428349...</td>\n",
       "      <td>[민감성, 여름쿨톤, 트러블]</td>\n",
       "    </tr>\n",
       "    <tr>\n",
       "      <th>4</th>\n",
       "      <td>1</td>\n",
       "      <td>식물나라 뽀얀쌀 생기 톤업 선쿠션 보노보노 기획 2종 (01호/02호)</td>\n",
       "      <td>1호는 많이바르면 살짝 백탁현상일어나는거같긴한데 그래도 파데프리하기좋아요 ㅎ</td>\n",
       "      <td>[-0.0006618660991080105, -0.005619724746793508...</td>\n",
       "      <td>empty</td>\n",
       "    </tr>\n",
       "    <tr>\n",
       "      <th>...</th>\n",
       "      <td>...</td>\n",
       "      <td>...</td>\n",
       "      <td>...</td>\n",
       "      <td>...</td>\n",
       "      <td>...</td>\n",
       "    </tr>\n",
       "    <tr>\n",
       "      <th>15333</th>\n",
       "      <td>31</td>\n",
       "      <td>김정문알로에 큐어 아쿠아 마일드 쿨링 선쿠션 리필 기획(25g+리필)</td>\n",
       "      <td>친구가 쓰는거 써보고 주문했어요자극없이 얼굴에도 몸에도 다 사용할 수 있어서 좋아요</td>\n",
       "      <td>[0.007672455627471209, 0.017566798254847527, -...</td>\n",
       "      <td>empty</td>\n",
       "    </tr>\n",
       "    <tr>\n",
       "      <th>15334</th>\n",
       "      <td>31</td>\n",
       "      <td>김정문알로에 큐어 아쿠아 마일드 쿨링 선쿠션 리필 기획(25g+리필)</td>\n",
       "      <td>이거 생각보다 좋아요여름이라 번들거리는 선크림 싫어서 찾아보다가완전득템했어요 사계절...</td>\n",
       "      <td>[-0.0032844068482518196, -0.01874680072069168,...</td>\n",
       "      <td>empty</td>\n",
       "    </tr>\n",
       "    <tr>\n",
       "      <th>15335</th>\n",
       "      <td>32</td>\n",
       "      <td>김정문알로에 큐어 아쿠아 마일드 쿨링 선쿠션 리필 기획(25g+리필)</td>\n",
       "      <td>크다크다 후기 보고 샀는데도 놀랬네요 통이 커서 거울도 커서 좋아요 백탁 얘기가 있...</td>\n",
       "      <td>[0.02584942616522312, -0.00103347550611943, -0...</td>\n",
       "      <td>empty</td>\n",
       "    </tr>\n",
       "    <tr>\n",
       "      <th>15336</th>\n",
       "      <td>32</td>\n",
       "      <td>김정문알로에 큐어 아쿠아 마일드 쿨링 선쿠션 리필 기획(25g+리필)</td>\n",
       "      <td>여행가기전 구매했어요. 쿠션이라 편하게 사용할 수 있어 좋은거 같아요.</td>\n",
       "      <td>[-0.015927724540233612, -0.0054731848649680614...</td>\n",
       "      <td>empty</td>\n",
       "    </tr>\n",
       "    <tr>\n",
       "      <th>15337</th>\n",
       "      <td>32</td>\n",
       "      <td>김정문알로에 큐어 아쿠아 마일드 쿨링 선쿠션 리필 기획(25g+리필)</td>\n",
       "      <td>화장하고 썬크림 덧바를 용도로 샀는데 백탁이 너무 심해서 당황했습니다.수정화장용으로...</td>\n",
       "      <td>[-0.009855971671640873, -0.013427264988422394,...</td>\n",
       "      <td>empty</td>\n",
       "    </tr>\n",
       "  </tbody>\n",
       "</table>\n",
       "<p>15338 rows × 5 columns</p>\n",
       "</div>"
      ],
      "text/plain": [
       "       page                             product_name  \\\n",
       "0         1  식물나라 뽀얀쌀 생기 톤업 선쿠션 보노보노 기획 2종 (01호/02호)   \n",
       "1         1  식물나라 뽀얀쌀 생기 톤업 선쿠션 보노보노 기획 2종 (01호/02호)   \n",
       "2         1  식물나라 뽀얀쌀 생기 톤업 선쿠션 보노보노 기획 2종 (01호/02호)   \n",
       "3         1  식물나라 뽀얀쌀 생기 톤업 선쿠션 보노보노 기획 2종 (01호/02호)   \n",
       "4         1  식물나라 뽀얀쌀 생기 톤업 선쿠션 보노보노 기획 2종 (01호/02호)   \n",
       "...     ...                                      ...   \n",
       "15333    31   김정문알로에 큐어 아쿠아 마일드 쿨링 선쿠션 리필 기획(25g+리필)   \n",
       "15334    31   김정문알로에 큐어 아쿠아 마일드 쿨링 선쿠션 리필 기획(25g+리필)   \n",
       "15335    32   김정문알로에 큐어 아쿠아 마일드 쿨링 선쿠션 리필 기획(25g+리필)   \n",
       "15336    32   김정문알로에 큐어 아쿠아 마일드 쿨링 선쿠션 리필 기획(25g+리필)   \n",
       "15337    32   김정문알로에 큐어 아쿠아 마일드 쿨링 선쿠션 리필 기획(25g+리필)   \n",
       "\n",
       "                                                  review  \\\n",
       "0      선쿠션 다써봐도 무조건 다시 이거처음 출시때부터 쓰고있어요!!뽀얀쌀생기톤업선쿠션솔직...   \n",
       "1      매번 구매하고 있는 제품입니다!! ㅎㅎ다른 분들에게도 강력 추천드리고 싶습니다!! ...   \n",
       "2      🔥매일 사용한 솔직후기 입니다🔥👍간단요약1. 톤업 엄청난편 칙칙한 얼굴 1초만에 화...   \n",
       "3      올리브영 제품은 항상 냉장고에 넣고 사용중이에요 화장품냉장고 용량이 작아서 어쩔수가...   \n",
       "4            1호는 많이바르면 살짝 백탁현상일어나는거같긴한데 그래도 파데프리하기좋아요 ㅎ    \n",
       "...                                                  ...   \n",
       "15333    친구가 쓰는거 써보고 주문했어요자극없이 얼굴에도 몸에도 다 사용할 수 있어서 좋아요    \n",
       "15334  이거 생각보다 좋아요여름이라 번들거리는 선크림 싫어서 찾아보다가완전득템했어요 사계절...   \n",
       "15335  크다크다 후기 보고 샀는데도 놀랬네요 통이 커서 거울도 커서 좋아요 백탁 얘기가 있...   \n",
       "15336           여행가기전 구매했어요. 쿠션이라 편하게 사용할 수 있어 좋은거 같아요.    \n",
       "15337  화장하고 썬크림 덧바를 용도로 샀는데 백탁이 너무 심해서 당황했습니다.수정화장용으로...   \n",
       "\n",
       "                                               embedding  \\\n",
       "0      [0.048438794910907745, -0.03658457472920418, -...   \n",
       "1      [0.009942738339304924, -0.03312501683831215, -...   \n",
       "2      [-0.005401344504207373, -0.029762214049696922,...   \n",
       "3      [0.003224656917154789, -0.00013565854169428349...   \n",
       "4      [-0.0006618660991080105, -0.005619724746793508...   \n",
       "...                                                  ...   \n",
       "15333  [0.007672455627471209, 0.017566798254847527, -...   \n",
       "15334  [-0.0032844068482518196, -0.01874680072069168,...   \n",
       "15335  [0.02584942616522312, -0.00103347550611943, -0...   \n",
       "15336  [-0.015927724540233612, -0.0054731848649680614...   \n",
       "15337  [-0.009855971671640873, -0.013427264988422394,...   \n",
       "\n",
       "                    skin_type  \n",
       "0      [복합성, 여름쿨톤, 다크서클, 민감성]  \n",
       "1        [지성, 가을웜톤, 다크서클, 모공]  \n",
       "2           [건성, 봄웜톤, 모공, 탄력]  \n",
       "3            [민감성, 여름쿨톤, 트러블]  \n",
       "4                       empty  \n",
       "...                       ...  \n",
       "15333                   empty  \n",
       "15334                   empty  \n",
       "15335                   empty  \n",
       "15336                   empty  \n",
       "15337                   empty  \n",
       "\n",
       "[15338 rows x 5 columns]"
      ]
     },
     "execution_count": 38,
     "metadata": {},
     "output_type": "execute_result"
    }
   ],
   "source": [
    "df"
   ]
  },
  {
   "cell_type": "markdown",
   "id": "76950b74-02a5-4535-bfd1-ced3b03f4fef",
   "metadata": {},
   "source": [
    "# PINECONE"
   ]
  },
  {
   "cell_type": "code",
   "execution_count": 9,
   "id": "7ffc3eb5-bebe-45fc-9847-02fa17fb90b3",
   "metadata": {},
   "outputs": [
    {
     "name": "stdin",
     "output_type": "stream",
     "text": [
      "PINECONE_API_KEY ········\n"
     ]
    }
   ],
   "source": [
    "from pinecone import Pinecone\n",
    "\n",
    "pinecone_api_key = getpass(\"PINECONE_API_KEY\")"
   ]
  },
  {
   "cell_type": "code",
   "execution_count": 10,
   "id": "ef1497f9-abf6-4b74-a180-8949d6a084af",
   "metadata": {},
   "outputs": [],
   "source": [
    "pc = Pinecone(api_key = pinecone_api_key)\n",
    "index = pc.Index(\"suncare\")"
   ]
  },
  {
   "cell_type": "code",
   "execution_count": null,
   "id": "e4f5b841-740e-410f-8491-52007b2857e5",
   "metadata": {},
   "outputs": [],
   "source": [
    "index.describe_index_stats()"
   ]
  },
  {
   "cell_type": "code",
   "execution_count": null,
   "id": "d7531ef3-8293-4773-bb7b-c952590121b4",
   "metadata": {},
   "outputs": [],
   "source": [
    "df = df[[\"page\", \"product_name\", \"review\", \"skin_type\", \"embedding\"]]"
   ]
  },
  {
   "cell_type": "code",
   "execution_count": null,
   "id": "2b19be41-a338-434b-a26f-e26c89ed4e75",
   "metadata": {},
   "outputs": [],
   "source": [
    "df"
   ]
  },
  {
   "cell_type": "code",
   "execution_count": null,
   "id": "ca1e8e37-f14b-4aed-903b-3f70d0c85cf9",
   "metadata": {},
   "outputs": [],
   "source": [
    "batchsize = 100\n",
    "\n",
    "for i in tqdm(range(0, len(df), batchsize)):\n",
    "    batch = df.iloc[i:i+batchsize]\n",
    "    vectors = []\n",
    "    for j in range(len(batch)):\n",
    "        row = batch.iloc[j]\n",
    "        id_ = str(row.name)\n",
    "        embedding = row[\"embedding\"]\n",
    "        metadata = row.drop([\"embedding\"]).to_dict()\n",
    "        vectors.append((id_, embedding, metadata))\n",
    "    response = index.upsert(vectors)"
   ]
  },
  {
   "cell_type": "code",
   "execution_count": 11,
   "id": "dcdc5c6e-115d-4a52-99b0-8b4e007e2605",
   "metadata": {},
   "outputs": [
    {
     "name": "stdin",
     "output_type": "stream",
     "text": [
      "피부타입 : 지성\n"
     ]
    }
   ],
   "source": [
    "type_ = input(\"피부타입 :\")"
   ]
  },
  {
   "cell_type": "code",
   "execution_count": 12,
   "id": "81a33692-3c1b-4538-b6fe-15f9f3bc4dfd",
   "metadata": {},
   "outputs": [
    {
     "name": "stdin",
     "output_type": "stream",
     "text": [
      "입력 : 야외활동에 좋은 제품을 추천해줘\n"
     ]
    }
   ],
   "source": [
    "query = input(\"입력 :\")"
   ]
  },
  {
   "cell_type": "code",
   "execution_count": 19,
   "id": "e60195c9-8ff4-4bea-b1c7-71fd9a579cbc",
   "metadata": {},
   "outputs": [],
   "source": [
    "full_query = f\"\"\"\n",
    "유저가 사용하고 싶은 제품을 설명합니다.\n",
    "이를 참고하여 유저에게 제품을 추천해주세요.\n",
    "```\n",
    "피부타입 : {type_}\n",
    "사용하고싶은 제품 : {query}\n",
    "```\n",
    "\"\"\".strip()"
   ]
  },
  {
   "cell_type": "code",
   "execution_count": 20,
   "id": "041607b4-857d-4f65-b117-2f1368752e81",
   "metadata": {},
   "outputs": [],
   "source": [
    "query_embedding = extract_embedding([full_query])[0]"
   ]
  },
  {
   "cell_type": "code",
   "execution_count": 21,
   "id": "e5bc253d-5da0-4ee8-b4d2-73a158e3d2bd",
   "metadata": {},
   "outputs": [],
   "source": [
    "result = index.query(\n",
    "    vector = query_embedding,\n",
    "    top_k = 3,\n",
    "    include_metadata = True,\n",
    "    filter={\n",
    "    \"skin_type\" : type_ or \"empty\"\n",
    "    }\n",
    ")"
   ]
  },
  {
   "cell_type": "code",
   "execution_count": 22,
   "id": "c468a3cb-7c5b-4d53-8f02-81b1c121be7f",
   "metadata": {},
   "outputs": [
    {
     "data": {
      "text/plain": [
       "{'matches': [{'id': '114918',\n",
       "              'metadata': {'page': 3.0,\n",
       "                           'product_name': '[1+1 올영기획]닥터자르트 에브리선데이 마일드선 1+1 '\n",
       "                                           '기획세트 (30ml+30ml)',\n",
       "                           'review': '👀 피부타입 : 극지성 수부지 + 민감성👅 모공부자. 피지부자. 블랙헤드 '\n",
       "                                     '화이트헤드부자.👐 피부톤 : 21호 여름 쿨 뮤트 라이트 그레이시끈적임 '\n",
       "                                     '극혐러로써 지성 파워추천 선크림입니다. 백탁때문에 톤업효과도 있어서 '\n",
       "                                     '평소에 이거 하나만 바르고 다녀요. 하지만 사진상처럼 홍조랑 잡티를 '\n",
       "                                     '완벽히 가리진 못합니다. 파데가 아니니까 당연하지만요ㅋㅋ...자외선 '\n",
       "                                     '차단은 꽤 잘된다고 느껴집니다. 로션처럼 착 발리는 제품이고 끈적이지 '\n",
       "                                     '않는 제품이라 계속 사용중입니다. 그리고 제가 피부가 잘 뒤집어지는 '\n",
       "                                     '편인데다가,  유분이 있는 선크림을 사용하면 바로 뾰루지가 올라오는데 '\n",
       "                                     '그런것 하나 없이 잘 사용하고 있어서 추천드립니다. 지성 여름쿨톤 모공 '\n",
       "                                     '피지과다',\n",
       "                           'skin_type': ['지성', '여름쿨톤', '모공', '피지과다']},\n",
       "              'score': 0.527218699,\n",
       "              'values': []},\n",
       "             {'id': '35024',\n",
       "              'metadata': {'page': 37.0,\n",
       "                           'product_name': '브링그린 티트리시카 선 3종(선크림/선스틱/선쿠션)',\n",
       "                           'review': '✔️피부타입 : 극지성, 민감성, 홍조✔️추천 피부타입 : 수부지, '\n",
       "                                     '지성, 복합성✔️처음 사용할때 제품 끝이 뾰족한 경우가 많은데 세로로 '\n",
       "                                     '사용해주시면 금방둥글어집니다✔️가루가 조금 있는데 뭉개지듯이 떨어지는 '\n",
       "                                     '편입니다✔️쿨링감은 확실히 느껴져서 만족스러웠습니다!열이많은 체질인데 '\n",
       "                                     '더운곳에서 사용해도 시원함이 느껴져서 좋았어요✔️흡수 빠른편이고 옷에 '\n",
       "                                     '거의 안묻어나요✔️여러번 덧발라도 뭉침없습니다✔️발림성은 무난한거 '\n",
       "                                     '같아요, 엄청 부드럽진 않습니다✔️사용하면서 아쉬운점을 그닥 못느껴서 '\n",
       "                                     '가격대비 상당히 만족스러운 제품입니다.야외활동 자주 하시고 덧바르기 '\n",
       "                                     '좋은제품 찾으시면 이제품 추천드릴게요! 지성 여름쿨톤 각질 민감성',\n",
       "                           'skin_type': ['지성', '여름쿨톤', '각질', '민감성']},\n",
       "              'score': 0.52218622,\n",
       "              'values': []},\n",
       "             {'id': '136859',\n",
       "              'metadata': {'page': 40.0,\n",
       "                           'product_name': '[배라콜라보] 브링그린 티트리시카 선 '\n",
       "                                           '3종(선크림/선스틱/선쿠션)',\n",
       "                           'review': '✔️피부타입 : 극지성, 민감성, 홍조✔️추천 피부타입 : 수부지, '\n",
       "                                     '지성, 복합성✔️처음 사용할때 제품 끝이 뾰족한 경우가 많은데 세로로 '\n",
       "                                     '사용해주시면 금방둥글어집니다✔️가루가 조금 있는데 뭉개지듯이 떨어지는 '\n",
       "                                     '편입니다✔️쿨링감은 확실히 느껴져서 만족스러웠습니다!열이많은 체질인데 '\n",
       "                                     '더운곳에서 사용해도 시원함이 느껴져서 좋았어요✔️흡수 빠른편이고 옷에 '\n",
       "                                     '거의 안묻어나요✔️여러번 덧발라도 뭉침없습니다✔️발림성은 무난한거 '\n",
       "                                     '같아요, 엄청 부드럽진 않습니다✔️사용하면서 아쉬운점을 그닥 못느껴서 '\n",
       "                                     '가격대비 상당히 만족스러운 제품입니다.야외활동 자주 하시고 덧바르기 '\n",
       "                                     '좋은제품 찾으시면 이제품 추천드릴게요! 지성 여름쿨톤 각질 민감성',\n",
       "                           'skin_type': ['지성', '여름쿨톤', '각질', '민감성']},\n",
       "              'score': 0.521630585,\n",
       "              'values': []}],\n",
       " 'namespace': '',\n",
       " 'usage': {'read_units': 19}}"
      ]
     },
     "execution_count": 22,
     "metadata": {},
     "output_type": "execute_result"
    }
   ],
   "source": [
    "result"
   ]
  },
  {
   "cell_type": "markdown",
   "id": "4c9f6501-84ca-414c-a17a-e21d3f8ef98d",
   "metadata": {},
   "source": [
    "# AI 추천"
   ]
  },
  {
   "cell_type": "code",
   "execution_count": 32,
   "id": "a7599c83-a408-4a04-8c77-3423c1cd98cb",
   "metadata": {},
   "outputs": [],
   "source": [
    "def generate_prompt(query, items):\n",
    "    prompt = f\"\"\"\n",
    "    당신은 올리브영 점장입니다.\n",
    "    유저가 사용하고 싶은 제품에 대한 설명와 이에 대한 추천 결과가 주어집니다.\n",
    "    유저의 입력과 각 추천 결과 제품이름, 피부타입, 리뷰 등을 참고하여 추천사를 작성하세요.\n",
    "    당신에 대한 소개를 먼저 하고, 친절한 말투로 작성해주세요.\n",
    "    중간 중간 이모지를 적절히 사용해주세요.\n",
    "\n",
    "    ```\n",
    "    {items}\n",
    "    ```\n",
    "    \"\"\"\n",
    "    return prompt"
   ]
  },
  {
   "cell_type": "code",
   "execution_count": 33,
   "id": "8fbe4dac-ce68-4cd2-8537-68f7ed5e78ec",
   "metadata": {},
   "outputs": [],
   "source": [
    "matches = result[\"matches\"]"
   ]
  },
  {
   "cell_type": "code",
   "execution_count": 34,
   "id": "358d42a7-fc15-4f1e-821e-3fc4a22a567a",
   "metadata": {},
   "outputs": [],
   "source": [
    "metadata_list = [x[\"metadata\"] for x in matches]"
   ]
  },
  {
   "cell_type": "code",
   "execution_count": 35,
   "id": "2ae949ae-be87-4068-b2a1-b82d8ed94c37",
   "metadata": {},
   "outputs": [],
   "source": [
    "item_list = [{\n",
    "    \"제품이름\" : x[\"product_name\"],\n",
    "    \"피부타입\" : x[\"skin_type\"],\n",
    "    \"리뷰\" : x[\"review\"]\n",
    "} for x in metadata_list]"
   ]
  },
  {
   "cell_type": "code",
   "execution_count": 36,
   "id": "eca88a8d-0a2d-43e1-82a8-03c542a44175",
   "metadata": {},
   "outputs": [],
   "source": [
    "import json\n",
    "\n",
    "prompt = generate_prompt(\n",
    "    query = query,\n",
    "    items = json.dumps(item_list, indent = 2, ensure_ascii = False)\n",
    ")"
   ]
  },
  {
   "cell_type": "code",
   "execution_count": 37,
   "id": "4ce7473c-d1c5-4086-9b70-0921d4bb58e9",
   "metadata": {},
   "outputs": [
    {
     "name": "stdout",
     "output_type": "stream",
     "text": [
      "\n",
      "    당신은 올리브영 점장입니다.\n",
      "    유저가 사용하고 싶은 제품에 대한 설명와 이에 대한 추천 결과가 주어집니다.\n",
      "    유저의 입력과 각 추천 결과 제품이름, 피부타입, 리뷰 등을 참고하여 추천사를 작성하세요.\n",
      "    당신에 대한 소개를 먼저 하고, 친절한 말투로 작성해주세요.\n",
      "    중간 중간 이모지를 적절히 사용해주세요.\n",
      "\n",
      "    ```\n",
      "    [\n",
      "  {\n",
      "    \"제품이름\": \"[1+1 올영기획]닥터자르트 에브리선데이 마일드선 1+1 기획세트 (30ml+30ml)\",\n",
      "    \"피부타입\": [\n",
      "      \"지성\",\n",
      "      \"여름쿨톤\",\n",
      "      \"모공\",\n",
      "      \"피지과다\"\n",
      "    ],\n",
      "    \"리뷰\": \"👀 피부타입 : 극지성 수부지 + 민감성👅 모공부자. 피지부자. 블랙헤드 화이트헤드부자.👐 피부톤 : 21호 여름 쿨 뮤트 라이트 그레이시끈적임 극혐러로써 지성 파워추천 선크림입니다. 백탁때문에 톤업효과도 있어서 평소에 이거 하나만 바르고 다녀요. 하지만 사진상처럼 홍조랑 잡티를 완벽히 가리진 못합니다. 파데가 아니니까 당연하지만요ㅋㅋ...자외선 차단은 꽤 잘된다고 느껴집니다. 로션처럼 착 발리는 제품이고 끈적이지 않는 제품이라 계속 사용중입니다. 그리고 제가 피부가 잘 뒤집어지는 편인데다가,  유분이 있는 선크림을 사용하면 바로 뾰루지가 올라오는데 그런것 하나 없이 잘 사용하고 있어서 추천드립니다. 지성 여름쿨톤 모공 피지과다\"\n",
      "  },\n",
      "  {\n",
      "    \"제품이름\": \"브링그린 티트리시카 선 3종(선크림/선스틱/선쿠션)\",\n",
      "    \"피부타입\": [\n",
      "      \"지성\",\n",
      "      \"여름쿨톤\",\n",
      "      \"각질\",\n",
      "      \"민감성\"\n",
      "    ],\n",
      "    \"리뷰\": \"✔️피부타입 : 극지성, 민감성, 홍조✔️추천 피부타입 : 수부지, 지성, 복합성✔️처음 사용할때 제품 끝이 뾰족한 경우가 많은데 세로로 사용해주시면 금방둥글어집니다✔️가루가 조금 있는데 뭉개지듯이 떨어지는 편입니다✔️쿨링감은 확실히 느껴져서 만족스러웠습니다!열이많은 체질인데 더운곳에서 사용해도 시원함이 느껴져서 좋았어요✔️흡수 빠른편이고 옷에 거의 안묻어나요✔️여러번 덧발라도 뭉침없습니다✔️발림성은 무난한거 같아요, 엄청 부드럽진 않습니다✔️사용하면서 아쉬운점을 그닥 못느껴서 가격대비 상당히 만족스러운 제품입니다.야외활동 자주 하시고 덧바르기 좋은제품 찾으시면 이제품 추천드릴게요! 지성 여름쿨톤 각질 민감성\"\n",
      "  },\n",
      "  {\n",
      "    \"제품이름\": \"[배라콜라보] 브링그린 티트리시카 선 3종(선크림/선스틱/선쿠션)\",\n",
      "    \"피부타입\": [\n",
      "      \"지성\",\n",
      "      \"여름쿨톤\",\n",
      "      \"각질\",\n",
      "      \"민감성\"\n",
      "    ],\n",
      "    \"리뷰\": \"✔️피부타입 : 극지성, 민감성, 홍조✔️추천 피부타입 : 수부지, 지성, 복합성✔️처음 사용할때 제품 끝이 뾰족한 경우가 많은데 세로로 사용해주시면 금방둥글어집니다✔️가루가 조금 있는데 뭉개지듯이 떨어지는 편입니다✔️쿨링감은 확실히 느껴져서 만족스러웠습니다!열이많은 체질인데 더운곳에서 사용해도 시원함이 느껴져서 좋았어요✔️흡수 빠른편이고 옷에 거의 안묻어나요✔️여러번 덧발라도 뭉침없습니다✔️발림성은 무난한거 같아요, 엄청 부드럽진 않습니다✔️사용하면서 아쉬운점을 그닥 못느껴서 가격대비 상당히 만족스러운 제품입니다.야외활동 자주 하시고 덧바르기 좋은제품 찾으시면 이제품 추천드릴게요! 지성 여름쿨톤 각질 민감성\"\n",
      "  }\n",
      "]\n",
      "    ```\n",
      "    \n"
     ]
    }
   ],
   "source": [
    "print(prompt)"
   ]
  },
  {
   "cell_type": "code",
   "execution_count": 38,
   "id": "aecf335c-7975-4b8c-9d21-3007b4103d70",
   "metadata": {},
   "outputs": [],
   "source": [
    "def request_chat_completion(prompt):\n",
    "    response = client.chat.completions.create(\n",
    "        model = \"gpt-4o\",\n",
    "        messages = [\n",
    "            {\"role\" : \"system\", \"content\" : \"당신은 제품을 추천해주는 올리브영 점장입니다.\"},\n",
    "            {\"role\" : \"user\", \"content\" : prompt}\n",
    "        ],\n",
    "        stream = True\n",
    "    )\n",
    "    return response"
   ]
  },
  {
   "cell_type": "code",
   "execution_count": 39,
   "id": "796034b5-ceb4-42dc-bce2-077e92463e1c",
   "metadata": {},
   "outputs": [],
   "source": [
    "def print_streaming_response(response):\n",
    "    for chunk in response:\n",
    "        delta = chunk.choices[0].delta\n",
    "        if delta.content:\n",
    "            print(delta.content, end = \"\")"
   ]
  },
  {
   "cell_type": "code",
   "execution_count": 40,
   "id": "1bf592be-6d6e-4eac-8afe-387b2118b375",
   "metadata": {},
   "outputs": [
    {
     "name": "stdout",
     "output_type": "stream",
     "text": [
      "안녕하세요! 올리브영에 오신 것을 환영합니다 😊 저는 올리브영 점장입니다. 고객님께서 더 나은 선택을 하실 수 있도록 도움을 드리기 위해 여기 있습니다. 오늘은 고객님의 피부 타입과 필요에 맞는 선크림을 추천해드리려고 합니다. 여러 제품들 사이에서 고민 중이시죠? 그럴 때 제가 도와드릴 수 있어 기쁩니다!\n",
      "\n",
      "👩‍🔬 **닥터자르트 에브리선데이 마일드선 1+1 기획세트** 🧴\n",
      "- **피부타입:** 지성, 여름쿨톤, 모공, 피지과다\n",
      "- **리뷰:** 극지성 수부지+민감성 피부를 가진 사용자로부터 매우 좋은 평가를 받았습니다. 이 선크림은 끈적임이 적고 백탁 현상이 있어 자연스러운 톤업 효과를 기대할 수 있습니다. 게다가 로션 타입이라 가볍게 발리며 자외선 차단도 매우 잘 되는 제품이에요. 민감성 피부에도 트러블 없이 잘 맞으며, 지성 피부에 특히 추천드립니다!\n",
      "\n",
      "🌿 **브링그린 티트리시카 선 3종(선크림/선스틱/선쿠션)** ☀️\n",
      "- **피부타입:** 지성, 여름쿨톤, 각질, 민감성\n",
      "- **리뷰:** 극지성, 민감성, 홍조 피부를 가진 사용자의 만족도가 높습니다. 이 제품은 쿨링감이 뛰어나며 흡수가 빨라 끈적임 없이 사용 가능합니다. 여러 번 덧발라도 뭉치지 않아 야외활동이 많으신 분들께 추천드립니다. 특히, 가격 대비 만족도가 매우 높아요! 😊\n",
      "\n",
      "양 제품 모두 지성과 여름쿨톤 피부에 적합하지만, 각각의 장점이 다릅니다. 만약 톤업 효과와 가벼운 발림성을 원하신다면 **닥터자르트 에브리선데이 마일드선**이 좋은 선택이 될 거예요. 반면 쿨링 감촉과 빠른 흡수력을 원하는 분께는 **브링그린 티트리시카 선 3종**을 추천드립니다.\n",
      "\n",
      "올리브영에서 고객님의 피부 타입과 라이프스타일에 맞는 최적의 제품을 찾으시길 바라요! 🌞 언제든 궁금한 점이 있으면 저에게 물어보세요. 항상 최고의 제품과 서비스를 제공해 드리겠습니다. 감사합니다! 💖"
     ]
    }
   ],
   "source": [
    "response = request_chat_completion(prompt)\n",
    "print_streaming_response(response)"
   ]
  },
  {
   "cell_type": "markdown",
   "id": "fe0080f7-a9ae-4914-8821-0a5344f79b0d",
   "metadata": {},
   "source": [
    "# 정리"
   ]
  },
  {
   "cell_type": "markdown",
   "id": "333a1b75-cdab-41b9-96e7-4b374ee00c53",
   "metadata": {
    "jp-MarkdownHeadingCollapsed": true
   },
   "source": [
    "1. 리뷰, 스킨타입, 고민거리 각각 임베딩 시킨다.  \n",
    " > 리뷰 : 영어로 변환 -> 이모지는 삭제 안해도 구글에서 표시는 가능해서 안지워도 될 것 같기도.., 리뷰 없는 내용은 삭제(?)  \n",
    " > 고민거리 : 영어변환  \n",
    " > 스킨타입 : 영어로 변환, 첫번째 요소만 남김 -> 스킨타입열은 문자열 타입으로 되어있으므로 리스트로 변환시켜야 함  \n",
    "->  스킨타입에서 고민거리랑 분리  \n",
    "2. 제품별로 그룹화해서 임베딩 평균(?)을 계산한다.\n",
    "\n",
    "3. 제품별 리뷰, 스킨타입을 결합시킨다.\n",
    "\n",
    "4. 사용자에게 스킨타입, 추가요청사항을 받는다.\n",
    " > 입력받은 값 영어로 변환  \n",
    "\n",
    "5. 사용자에게 입력받은 값을 각각 임베딩 시켜서 결합시킨다.\n",
    "\n",
    "6. 코사인유사도를 사용하여 두 벡터간 유사성을 측정한다.\n",
    "\n",
    "7. 유사도가 높은 상위 3개(?) 제품을 사용자에게 추천한다."
   ]
  },
  {
   "cell_type": "code",
   "execution_count": null,
   "id": "00b472db-04f8-48fd-bf89-22345f12fc65",
   "metadata": {},
   "outputs": [],
   "source": []
  },
  {
   "cell_type": "code",
   "execution_count": null,
   "id": "51d6e009-7fb3-4cfc-b35d-4d0d1976bec6",
   "metadata": {},
   "outputs": [],
   "source": []
  },
  {
   "cell_type": "code",
   "execution_count": null,
   "id": "1822afe9-01b0-4cf2-bed6-f8e6b567e886",
   "metadata": {},
   "outputs": [],
   "source": []
  },
  {
   "cell_type": "code",
   "execution_count": null,
   "id": "0d569450-d6f2-4b37-90b9-2c57eb4d58f7",
   "metadata": {},
   "outputs": [],
   "source": []
  },
  {
   "cell_type": "code",
   "execution_count": null,
   "id": "470fd56f-a45c-4cac-ad2d-0a9393a4a548",
   "metadata": {},
   "outputs": [],
   "source": []
  },
  {
   "cell_type": "code",
   "execution_count": null,
   "id": "e89a1ec5-87df-4991-a7a5-82cd738349f0",
   "metadata": {},
   "outputs": [],
   "source": []
  },
  {
   "cell_type": "code",
   "execution_count": null,
   "id": "25e1ef0b-4e63-4c69-bb97-50901d9a540b",
   "metadata": {},
   "outputs": [],
   "source": []
  }
 ],
 "metadata": {
  "kernelspec": {
   "display_name": "Python 3 (ipykernel)",
   "language": "python",
   "name": "python3"
  },
  "language_info": {
   "codemirror_mode": {
    "name": "ipython",
    "version": 3
   },
   "file_extension": ".py",
   "mimetype": "text/x-python",
   "name": "python",
   "nbconvert_exporter": "python",
   "pygments_lexer": "ipython3",
   "version": "3.12.4"
  }
 },
 "nbformat": 4,
 "nbformat_minor": 5
}
