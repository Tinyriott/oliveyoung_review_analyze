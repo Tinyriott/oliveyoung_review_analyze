{
 "cells": [
  {
   "cell_type": "markdown",
   "id": "33ad2736-7763-4f76-b02d-89e457d2a4dd",
   "metadata": {},
   "source": [
    "EDA\n",
    "\n",
    "- 별점 낮은 리뷰에서는 어떤 요소가 불호 워드로 나왔는지 → 개선점\n",
    "- 리뷰수가 많을수록 평균 별점이 높았을거다\n",
    "- 광고모델에따른 인기도가 다를 것이다\n",
    "- 브랜드별 선호도나 제품종류별 특징\n",
    "- 선크림, 선쿠션, 선스틱, 종류별 어떤 키워드가 많이 나왔는지"
   ]
  },
  {
   "cell_type": "code",
   "execution_count": 144,
   "id": "4f6eb7fb-2cfd-4369-99c4-fd1295e0fe1b",
   "metadata": {},
   "outputs": [],
   "source": [
    "from konlpy.tag import Komoran\n",
    "import pandas as pd\n",
    "import re\n",
    "from tqdm.notebook import tqdm"
   ]
  },
  {
   "cell_type": "code",
   "execution_count": 145,
   "id": "170250c9-ebb0-4017-aa7e-7455fcd04b81",
   "metadata": {},
   "outputs": [],
   "source": [
    "komoran = Komoran(userdic = \"./crawling/data/user_fix.dic\")"
   ]
  },
  {
   "cell_type": "code",
   "execution_count": 146,
   "id": "8974450d-e99a-4805-975a-89d773c8dbcb",
   "metadata": {},
   "outputs": [],
   "source": [
    "df = pd.read_csv(\"./crawling/data/suncushion_review_final.csv\", encoding = \"utf-8\")"
   ]
  },
  {
   "cell_type": "code",
   "execution_count": 147,
   "id": "738196c3-6cc2-4bde-9a29-ebd96273d430",
   "metadata": {},
   "outputs": [
    {
     "ename": "KeyError",
     "evalue": "\"['title'] not found in axis\"",
     "output_type": "error",
     "traceback": [
      "\u001b[0;31m---------------------------------------------------------------------------\u001b[0m",
      "\u001b[0;31mKeyError\u001b[0m                                  Traceback (most recent call last)",
      "Cell \u001b[0;32mIn[147], line 1\u001b[0m\n\u001b[0;32m----> 1\u001b[0m df \u001b[38;5;241m=\u001b[39m \u001b[43mdf\u001b[49m\u001b[38;5;241;43m.\u001b[39;49m\u001b[43mdrop\u001b[49m\u001b[43m(\u001b[49m\u001b[38;5;124;43m\"\u001b[39;49m\u001b[38;5;124;43mtitle\u001b[39;49m\u001b[38;5;124;43m\"\u001b[39;49m\u001b[43m,\u001b[49m\u001b[43m \u001b[49m\u001b[43maxis\u001b[49m\u001b[43m \u001b[49m\u001b[38;5;241;43m=\u001b[39;49m\u001b[43m \u001b[49m\u001b[38;5;241;43m1\u001b[39;49m\u001b[43m)\u001b[49m\n",
      "File \u001b[0;32m/Library/Frameworks/Python.framework/Versions/3.12/lib/python3.12/site-packages/pandas/core/frame.py:5581\u001b[0m, in \u001b[0;36mDataFrame.drop\u001b[0;34m(self, labels, axis, index, columns, level, inplace, errors)\u001b[0m\n\u001b[1;32m   5433\u001b[0m \u001b[38;5;28;01mdef\u001b[39;00m \u001b[38;5;21mdrop\u001b[39m(\n\u001b[1;32m   5434\u001b[0m     \u001b[38;5;28mself\u001b[39m,\n\u001b[1;32m   5435\u001b[0m     labels: IndexLabel \u001b[38;5;241m|\u001b[39m \u001b[38;5;28;01mNone\u001b[39;00m \u001b[38;5;241m=\u001b[39m \u001b[38;5;28;01mNone\u001b[39;00m,\n\u001b[0;32m   (...)\u001b[0m\n\u001b[1;32m   5442\u001b[0m     errors: IgnoreRaise \u001b[38;5;241m=\u001b[39m \u001b[38;5;124m\"\u001b[39m\u001b[38;5;124mraise\u001b[39m\u001b[38;5;124m\"\u001b[39m,\n\u001b[1;32m   5443\u001b[0m ) \u001b[38;5;241m-\u001b[39m\u001b[38;5;241m>\u001b[39m DataFrame \u001b[38;5;241m|\u001b[39m \u001b[38;5;28;01mNone\u001b[39;00m:\n\u001b[1;32m   5444\u001b[0m \u001b[38;5;250m    \u001b[39m\u001b[38;5;124;03m\"\"\"\u001b[39;00m\n\u001b[1;32m   5445\u001b[0m \u001b[38;5;124;03m    Drop specified labels from rows or columns.\u001b[39;00m\n\u001b[1;32m   5446\u001b[0m \n\u001b[0;32m   (...)\u001b[0m\n\u001b[1;32m   5579\u001b[0m \u001b[38;5;124;03m            weight  1.0     0.8\u001b[39;00m\n\u001b[1;32m   5580\u001b[0m \u001b[38;5;124;03m    \"\"\"\u001b[39;00m\n\u001b[0;32m-> 5581\u001b[0m     \u001b[38;5;28;01mreturn\u001b[39;00m \u001b[38;5;28;43msuper\u001b[39;49m\u001b[43m(\u001b[49m\u001b[43m)\u001b[49m\u001b[38;5;241;43m.\u001b[39;49m\u001b[43mdrop\u001b[49m\u001b[43m(\u001b[49m\n\u001b[1;32m   5582\u001b[0m \u001b[43m        \u001b[49m\u001b[43mlabels\u001b[49m\u001b[38;5;241;43m=\u001b[39;49m\u001b[43mlabels\u001b[49m\u001b[43m,\u001b[49m\n\u001b[1;32m   5583\u001b[0m \u001b[43m        \u001b[49m\u001b[43maxis\u001b[49m\u001b[38;5;241;43m=\u001b[39;49m\u001b[43maxis\u001b[49m\u001b[43m,\u001b[49m\n\u001b[1;32m   5584\u001b[0m \u001b[43m        \u001b[49m\u001b[43mindex\u001b[49m\u001b[38;5;241;43m=\u001b[39;49m\u001b[43mindex\u001b[49m\u001b[43m,\u001b[49m\n\u001b[1;32m   5585\u001b[0m \u001b[43m        \u001b[49m\u001b[43mcolumns\u001b[49m\u001b[38;5;241;43m=\u001b[39;49m\u001b[43mcolumns\u001b[49m\u001b[43m,\u001b[49m\n\u001b[1;32m   5586\u001b[0m \u001b[43m        \u001b[49m\u001b[43mlevel\u001b[49m\u001b[38;5;241;43m=\u001b[39;49m\u001b[43mlevel\u001b[49m\u001b[43m,\u001b[49m\n\u001b[1;32m   5587\u001b[0m \u001b[43m        \u001b[49m\u001b[43minplace\u001b[49m\u001b[38;5;241;43m=\u001b[39;49m\u001b[43minplace\u001b[49m\u001b[43m,\u001b[49m\n\u001b[1;32m   5588\u001b[0m \u001b[43m        \u001b[49m\u001b[43merrors\u001b[49m\u001b[38;5;241;43m=\u001b[39;49m\u001b[43merrors\u001b[49m\u001b[43m,\u001b[49m\n\u001b[1;32m   5589\u001b[0m \u001b[43m    \u001b[49m\u001b[43m)\u001b[49m\n",
      "File \u001b[0;32m/Library/Frameworks/Python.framework/Versions/3.12/lib/python3.12/site-packages/pandas/core/generic.py:4788\u001b[0m, in \u001b[0;36mNDFrame.drop\u001b[0;34m(self, labels, axis, index, columns, level, inplace, errors)\u001b[0m\n\u001b[1;32m   4786\u001b[0m \u001b[38;5;28;01mfor\u001b[39;00m axis, labels \u001b[38;5;129;01min\u001b[39;00m axes\u001b[38;5;241m.\u001b[39mitems():\n\u001b[1;32m   4787\u001b[0m     \u001b[38;5;28;01mif\u001b[39;00m labels \u001b[38;5;129;01mis\u001b[39;00m \u001b[38;5;129;01mnot\u001b[39;00m \u001b[38;5;28;01mNone\u001b[39;00m:\n\u001b[0;32m-> 4788\u001b[0m         obj \u001b[38;5;241m=\u001b[39m \u001b[43mobj\u001b[49m\u001b[38;5;241;43m.\u001b[39;49m\u001b[43m_drop_axis\u001b[49m\u001b[43m(\u001b[49m\u001b[43mlabels\u001b[49m\u001b[43m,\u001b[49m\u001b[43m \u001b[49m\u001b[43maxis\u001b[49m\u001b[43m,\u001b[49m\u001b[43m \u001b[49m\u001b[43mlevel\u001b[49m\u001b[38;5;241;43m=\u001b[39;49m\u001b[43mlevel\u001b[49m\u001b[43m,\u001b[49m\u001b[43m \u001b[49m\u001b[43merrors\u001b[49m\u001b[38;5;241;43m=\u001b[39;49m\u001b[43merrors\u001b[49m\u001b[43m)\u001b[49m\n\u001b[1;32m   4790\u001b[0m \u001b[38;5;28;01mif\u001b[39;00m inplace:\n\u001b[1;32m   4791\u001b[0m     \u001b[38;5;28mself\u001b[39m\u001b[38;5;241m.\u001b[39m_update_inplace(obj)\n",
      "File \u001b[0;32m/Library/Frameworks/Python.framework/Versions/3.12/lib/python3.12/site-packages/pandas/core/generic.py:4830\u001b[0m, in \u001b[0;36mNDFrame._drop_axis\u001b[0;34m(self, labels, axis, level, errors, only_slice)\u001b[0m\n\u001b[1;32m   4828\u001b[0m         new_axis \u001b[38;5;241m=\u001b[39m axis\u001b[38;5;241m.\u001b[39mdrop(labels, level\u001b[38;5;241m=\u001b[39mlevel, errors\u001b[38;5;241m=\u001b[39merrors)\n\u001b[1;32m   4829\u001b[0m     \u001b[38;5;28;01melse\u001b[39;00m:\n\u001b[0;32m-> 4830\u001b[0m         new_axis \u001b[38;5;241m=\u001b[39m \u001b[43maxis\u001b[49m\u001b[38;5;241;43m.\u001b[39;49m\u001b[43mdrop\u001b[49m\u001b[43m(\u001b[49m\u001b[43mlabels\u001b[49m\u001b[43m,\u001b[49m\u001b[43m \u001b[49m\u001b[43merrors\u001b[49m\u001b[38;5;241;43m=\u001b[39;49m\u001b[43merrors\u001b[49m\u001b[43m)\u001b[49m\n\u001b[1;32m   4831\u001b[0m     indexer \u001b[38;5;241m=\u001b[39m axis\u001b[38;5;241m.\u001b[39mget_indexer(new_axis)\n\u001b[1;32m   4833\u001b[0m \u001b[38;5;66;03m# Case for non-unique axis\u001b[39;00m\n\u001b[1;32m   4834\u001b[0m \u001b[38;5;28;01melse\u001b[39;00m:\n",
      "File \u001b[0;32m/Library/Frameworks/Python.framework/Versions/3.12/lib/python3.12/site-packages/pandas/core/indexes/base.py:7070\u001b[0m, in \u001b[0;36mIndex.drop\u001b[0;34m(self, labels, errors)\u001b[0m\n\u001b[1;32m   7068\u001b[0m \u001b[38;5;28;01mif\u001b[39;00m mask\u001b[38;5;241m.\u001b[39many():\n\u001b[1;32m   7069\u001b[0m     \u001b[38;5;28;01mif\u001b[39;00m errors \u001b[38;5;241m!=\u001b[39m \u001b[38;5;124m\"\u001b[39m\u001b[38;5;124mignore\u001b[39m\u001b[38;5;124m\"\u001b[39m:\n\u001b[0;32m-> 7070\u001b[0m         \u001b[38;5;28;01mraise\u001b[39;00m \u001b[38;5;167;01mKeyError\u001b[39;00m(\u001b[38;5;124mf\u001b[39m\u001b[38;5;124m\"\u001b[39m\u001b[38;5;132;01m{\u001b[39;00mlabels[mask]\u001b[38;5;241m.\u001b[39mtolist()\u001b[38;5;132;01m}\u001b[39;00m\u001b[38;5;124m not found in axis\u001b[39m\u001b[38;5;124m\"\u001b[39m)\n\u001b[1;32m   7071\u001b[0m     indexer \u001b[38;5;241m=\u001b[39m indexer[\u001b[38;5;241m~\u001b[39mmask]\n\u001b[1;32m   7072\u001b[0m \u001b[38;5;28;01mreturn\u001b[39;00m \u001b[38;5;28mself\u001b[39m\u001b[38;5;241m.\u001b[39mdelete(indexer)\n",
      "\u001b[0;31mKeyError\u001b[0m: \"['title'] not found in axis\""
     ]
    }
   ],
   "source": [
    "df = df.drop(\"title\", axis = 1)"
   ]
  },
  {
   "cell_type": "code",
   "execution_count": 148,
   "id": "63ce1eaa-6c3b-4daf-acb6-189c3f57240b",
   "metadata": {},
   "outputs": [
    {
     "data": {
      "text/html": [
       "<div>\n",
       "<style scoped>\n",
       "    .dataframe tbody tr th:only-of-type {\n",
       "        vertical-align: middle;\n",
       "    }\n",
       "\n",
       "    .dataframe tbody tr th {\n",
       "        vertical-align: top;\n",
       "    }\n",
       "\n",
       "    .dataframe thead th {\n",
       "        text-align: right;\n",
       "    }\n",
       "</style>\n",
       "<table border=\"1\" class=\"dataframe\">\n",
       "  <thead>\n",
       "    <tr style=\"text-align: right;\">\n",
       "      <th></th>\n",
       "      <th>page</th>\n",
       "      <th>product_name</th>\n",
       "      <th>star</th>\n",
       "      <th>review</th>\n",
       "      <th>skin_type</th>\n",
       "      <th>brand</th>\n",
       "      <th>category</th>\n",
       "    </tr>\n",
       "  </thead>\n",
       "  <tbody>\n",
       "    <tr>\n",
       "      <th>0</th>\n",
       "      <td>1</td>\n",
       "      <td>식물나라 뽀얀쌀 생기 톤업 선쿠션 보노보노 기획 2종 (01호/02호)</td>\n",
       "      <td>5점만점에 5점</td>\n",
       "      <td>선쿠션 다써봐도 무조건 다시 이거처음 출시때부터 쓰고있어요!!뽀얀쌀생기톤업선쿠션솔직...</td>\n",
       "      <td>['복합성', '여름쿨톤', '다크서클', '민감성']</td>\n",
       "      <td>식물나라</td>\n",
       "      <td>suncushion</td>\n",
       "    </tr>\n",
       "    <tr>\n",
       "      <th>1</th>\n",
       "      <td>1</td>\n",
       "      <td>식물나라 뽀얀쌀 생기 톤업 선쿠션 보노보노 기획 2종 (01호/02호)</td>\n",
       "      <td>5점만점에 5점</td>\n",
       "      <td>매번 구매하고 있는 제품입니다!! ㅎㅎ다른 분들에게도 강력 추천드리고 싶습니다!!</td>\n",
       "      <td>['지성', '가을웜톤', '다크서클', '모공']</td>\n",
       "      <td>식물나라</td>\n",
       "      <td>suncushion</td>\n",
       "    </tr>\n",
       "    <tr>\n",
       "      <th>2</th>\n",
       "      <td>1</td>\n",
       "      <td>식물나라 뽀얀쌀 생기 톤업 선쿠션 보노보노 기획 2종 (01호/02호)</td>\n",
       "      <td>5점만점에 5점</td>\n",
       "      <td>🔥매일 사용한 솔직후기 입니다🔥👍간단요약1. 톤업 엄청난편 칙칙한 얼굴 1초만에 화...</td>\n",
       "      <td>['건성', '봄웜톤', '모공', '탄력']</td>\n",
       "      <td>식물나라</td>\n",
       "      <td>suncushion</td>\n",
       "    </tr>\n",
       "    <tr>\n",
       "      <th>3</th>\n",
       "      <td>1</td>\n",
       "      <td>식물나라 뽀얀쌀 생기 톤업 선쿠션 보노보노 기획 2종 (01호/02호)</td>\n",
       "      <td>5점만점에 1점</td>\n",
       "      <td>피부가 예민한 편이긴한데 이거 바르고 얼굴이 울긋불긋해지고 가려워서 혼났네요ㅠ 끊고...</td>\n",
       "      <td>[]</td>\n",
       "      <td>식물나라</td>\n",
       "      <td>suncushion</td>\n",
       "    </tr>\n",
       "    <tr>\n",
       "      <th>4</th>\n",
       "      <td>1</td>\n",
       "      <td>식물나라 뽀얀쌀 생기 톤업 선쿠션 보노보노 기획 2종 (01호/02호)</td>\n",
       "      <td>5점만점에 5점</td>\n",
       "      <td>일단 케이스가 너무너무너무 귀여워요!! 보노보노 넘 좋아하는데 이렇게 콜라보로 나와...</td>\n",
       "      <td>[]</td>\n",
       "      <td>식물나라</td>\n",
       "      <td>suncushion</td>\n",
       "    </tr>\n",
       "    <tr>\n",
       "      <th>...</th>\n",
       "      <td>...</td>\n",
       "      <td>...</td>\n",
       "      <td>...</td>\n",
       "      <td>...</td>\n",
       "      <td>...</td>\n",
       "      <td>...</td>\n",
       "      <td>...</td>\n",
       "    </tr>\n",
       "    <tr>\n",
       "      <th>14353</th>\n",
       "      <td>31</td>\n",
       "      <td>김정문알로에 큐어 아쿠아 마일드 쿨링 선쿠션 리필 기획(25g+리필)</td>\n",
       "      <td>5점만점에 5점</td>\n",
       "      <td>친구가 쓰는거 써보고 주문했어요자극없이 얼굴에도 몸에도 다 사용할 수 있어서 좋아요</td>\n",
       "      <td>[]</td>\n",
       "      <td>큐어</td>\n",
       "      <td>suncushion</td>\n",
       "    </tr>\n",
       "    <tr>\n",
       "      <th>14354</th>\n",
       "      <td>31</td>\n",
       "      <td>김정문알로에 큐어 아쿠아 마일드 쿨링 선쿠션 리필 기획(25g+리필)</td>\n",
       "      <td>5점만점에 5점</td>\n",
       "      <td>이거 생각보다 좋아요여름이라 번들거리는 선크림 싫어서 찾아보다가완전득템했어요 사계절...</td>\n",
       "      <td>[]</td>\n",
       "      <td>큐어</td>\n",
       "      <td>suncushion</td>\n",
       "    </tr>\n",
       "    <tr>\n",
       "      <th>14355</th>\n",
       "      <td>32</td>\n",
       "      <td>김정문알로에 큐어 아쿠아 마일드 쿨링 선쿠션 리필 기획(25g+리필)</td>\n",
       "      <td>5점만점에 5점</td>\n",
       "      <td>크다크다 후기 보고 샀는데도 놀랬네요 통이 커서 거울도 커서 좋아요 백탁 얘기가 있...</td>\n",
       "      <td>[]</td>\n",
       "      <td>큐어</td>\n",
       "      <td>suncushion</td>\n",
       "    </tr>\n",
       "    <tr>\n",
       "      <th>14356</th>\n",
       "      <td>32</td>\n",
       "      <td>김정문알로에 큐어 아쿠아 마일드 쿨링 선쿠션 리필 기획(25g+리필)</td>\n",
       "      <td>5점만점에 5점</td>\n",
       "      <td>여행가기전 구매했어요. 쿠션이라 편하게 사용할 수 있어 좋은거 같아요.</td>\n",
       "      <td>[]</td>\n",
       "      <td>큐어</td>\n",
       "      <td>suncushion</td>\n",
       "    </tr>\n",
       "    <tr>\n",
       "      <th>14357</th>\n",
       "      <td>32</td>\n",
       "      <td>김정문알로에 큐어 아쿠아 마일드 쿨링 선쿠션 리필 기획(25g+리필)</td>\n",
       "      <td>5점만점에 3점</td>\n",
       "      <td>화장하고 썬크림 덧바를 용도로 샀는데 백탁이 너무 심해서 당황했습니다.수정화장용으로...</td>\n",
       "      <td>[]</td>\n",
       "      <td>큐어</td>\n",
       "      <td>suncushion</td>\n",
       "    </tr>\n",
       "  </tbody>\n",
       "</table>\n",
       "<p>14358 rows × 7 columns</p>\n",
       "</div>"
      ],
      "text/plain": [
       "       page                             product_name      star  \\\n",
       "0         1  식물나라 뽀얀쌀 생기 톤업 선쿠션 보노보노 기획 2종 (01호/02호)  5점만점에 5점   \n",
       "1         1  식물나라 뽀얀쌀 생기 톤업 선쿠션 보노보노 기획 2종 (01호/02호)  5점만점에 5점   \n",
       "2         1  식물나라 뽀얀쌀 생기 톤업 선쿠션 보노보노 기획 2종 (01호/02호)  5점만점에 5점   \n",
       "3         1  식물나라 뽀얀쌀 생기 톤업 선쿠션 보노보노 기획 2종 (01호/02호)  5점만점에 1점   \n",
       "4         1  식물나라 뽀얀쌀 생기 톤업 선쿠션 보노보노 기획 2종 (01호/02호)  5점만점에 5점   \n",
       "...     ...                                      ...       ...   \n",
       "14353    31   김정문알로에 큐어 아쿠아 마일드 쿨링 선쿠션 리필 기획(25g+리필)  5점만점에 5점   \n",
       "14354    31   김정문알로에 큐어 아쿠아 마일드 쿨링 선쿠션 리필 기획(25g+리필)  5점만점에 5점   \n",
       "14355    32   김정문알로에 큐어 아쿠아 마일드 쿨링 선쿠션 리필 기획(25g+리필)  5점만점에 5점   \n",
       "14356    32   김정문알로에 큐어 아쿠아 마일드 쿨링 선쿠션 리필 기획(25g+리필)  5점만점에 5점   \n",
       "14357    32   김정문알로에 큐어 아쿠아 마일드 쿨링 선쿠션 리필 기획(25g+리필)  5점만점에 3점   \n",
       "\n",
       "                                                  review  \\\n",
       "0      선쿠션 다써봐도 무조건 다시 이거처음 출시때부터 쓰고있어요!!뽀얀쌀생기톤업선쿠션솔직...   \n",
       "1          매번 구매하고 있는 제품입니다!! ㅎㅎ다른 분들에게도 강력 추천드리고 싶습니다!!   \n",
       "2      🔥매일 사용한 솔직후기 입니다🔥👍간단요약1. 톤업 엄청난편 칙칙한 얼굴 1초만에 화...   \n",
       "3      피부가 예민한 편이긴한데 이거 바르고 얼굴이 울긋불긋해지고 가려워서 혼났네요ㅠ 끊고...   \n",
       "4      일단 케이스가 너무너무너무 귀여워요!! 보노보노 넘 좋아하는데 이렇게 콜라보로 나와...   \n",
       "...                                                  ...   \n",
       "14353     친구가 쓰는거 써보고 주문했어요자극없이 얼굴에도 몸에도 다 사용할 수 있어서 좋아요   \n",
       "14354  이거 생각보다 좋아요여름이라 번들거리는 선크림 싫어서 찾아보다가완전득템했어요 사계절...   \n",
       "14355  크다크다 후기 보고 샀는데도 놀랬네요 통이 커서 거울도 커서 좋아요 백탁 얘기가 있...   \n",
       "14356            여행가기전 구매했어요. 쿠션이라 편하게 사용할 수 있어 좋은거 같아요.   \n",
       "14357  화장하고 썬크림 덧바를 용도로 샀는데 백탁이 너무 심해서 당황했습니다.수정화장용으로...   \n",
       "\n",
       "                            skin_type brand    category  \n",
       "0      ['복합성', '여름쿨톤', '다크서클', '민감성']  식물나라  suncushion  \n",
       "1        ['지성', '가을웜톤', '다크서클', '모공']  식물나라  suncushion  \n",
       "2           ['건성', '봄웜톤', '모공', '탄력']  식물나라  suncushion  \n",
       "3                                  []  식물나라  suncushion  \n",
       "4                                  []  식물나라  suncushion  \n",
       "...                               ...   ...         ...  \n",
       "14353                              []    큐어  suncushion  \n",
       "14354                              []    큐어  suncushion  \n",
       "14355                              []    큐어  suncushion  \n",
       "14356                              []    큐어  suncushion  \n",
       "14357                              []    큐어  suncushion  \n",
       "\n",
       "[14358 rows x 7 columns]"
      ]
     },
     "execution_count": 148,
     "metadata": {},
     "output_type": "execute_result"
    }
   ],
   "source": [
    "df"
   ]
  },
  {
   "cell_type": "code",
   "execution_count": 149,
   "id": "70bc0586-bec1-4353-9daa-115b7bbdada7",
   "metadata": {},
   "outputs": [
    {
     "data": {
      "application/vnd.jupyter.widget-view+json": {
       "model_id": "3776fb33d1254b79b36cbfc03b6fdd4e",
       "version_major": 2,
       "version_minor": 0
      },
      "text/plain": [
       "  0%|          | 0/14358 [00:00<?, ?it/s]"
      ]
     },
     "metadata": {},
     "output_type": "display_data"
    }
   ],
   "source": [
    "from tqdm.notebook import tqdm\n",
    "\n",
    "tqdm.pandas()\n",
    "df['product_name'] = df['product_name'].progress_apply(lambda x: x.strip())"
   ]
  },
  {
   "cell_type": "code",
   "execution_count": 150,
   "id": "afd14dd6-e9af-48e1-9df0-88584635896a",
   "metadata": {},
   "outputs": [],
   "source": [
    "def clean_text(text):\n",
    "    # 비유니코드 문자와 느낌표 제거\n",
    "    text = re.sub(r'[^\\x00-\\x7F\\uAC00-\\uD7AF]', '', text)  # 비유니코드 문자 제거\n",
    "    text = re.sub(r'[!]', '', text)  # 느낌표 제거\n",
    "    return text"
   ]
  },
  {
   "cell_type": "code",
   "execution_count": 151,
   "id": "1e6757ef-8085-4b9a-88dd-988564e653a9",
   "metadata": {},
   "outputs": [],
   "source": [
    "outword = [\"때\", \"선크림\", \"썬크림\", \"선쿠션\", '쌀', '요', '양', '형', '혼', '넘', '톤', '몰', '하', '연', '안', '폰', '티', '목', '립', '킴',\n",
    "         '종', '전', '본', '가', '미', '다', '게', '아', '혀', '눈', '향', '함', '침', '맘', '후', '맥', '힘', '달', '겉', '선', '열', '땀',\n",
    "         '날', '말', '밖', '여', '갈', '을', '못', '손', '물', '사', '폼', '입', '이', '당', '족', '파', '뒤', '볼', '코', '끔', '한', '톰',\n",
    "         '업', '용', '콩', '떡', '허', '팁', '기', '뼈', '임', '끝', '감', '빛', '덧', '싱', '노', '칠', '품', '얼', '오', '위', '일', '틈',\n",
    "         '리', '습', '속', '도', '뜸', '색', '어', '짜', '피', '발', '영', '남', '쌍', '야', '엉', '앞', '욥', '개', '귀', '썬', '골', '봄',\n",
    "         '옆', '보', '팔', '인', '꿀', '그', '학', '괘', '은', '병', '해', '졸', '똥', '씀', '정', '두', '딸', '핑', '특', '알', '조', '흠',\n",
    "         '팥', '합', '막', '잘', '난', '콘', '셀', '통', '누', '무', '더', '과', '팩', '화', '짐', '재', '지', '옷', '린', '모', '광', '글',\n",
    "         '독', '애', '디', '션', '내', '매', '엽', '떼', '쌈', '뽕', '집', '능', '몸', '소', '추', '친', '완', '첨', '중', '곳', '쥬', '각',\n",
    "         '느', '잇', '베', '챙', '겨', '서', '덤', '생', '마', '예', '세', '으', '염', '유', '나', '적', '러', '약', '새', '항', '상', '흰',\n",
    "         '끼', '메', '컵', '악', '흑', '데', '음', '옴', '담', '획', '신', '로', '갑', '면', '단', '읍', '고', '곱', '띠', '엿', '넌', '냉',\n",
    "         '백', '결', '존', '극', '총', '납', '라', '레', '래', '멜', '호', '턱', '타', '쿠', '뭐', '맛', '찬', '따', '녀', '살', '뺨', '뜰',\n",
    "         '체', '절', '득', '드', '김', '규', '별', '변', '효', '운', '뭍', '길', '올', '죽', '순', '짝', '버', '릭', '겹', '끈', '냐', \"요조\",\n",
    "         '편', '만', '밥', '식', '믈', '주', '풀', '갸', '부', '공', '혹', '력', '춤', '표', '배', '시', '밑', '낮', '진', '벗', '덕', '땅',\n",
    "         '건', '릴', '돌', '착', '컷', '장', '비', '현', '불', '밤', '반', '니', '닷', '직', '처', '참', '벤', '박', '방', '국', '환', '쥐',\n",
    "         '르', '룩', '암', '탓', '님', '홈', '패', '답', '차', '급', '점', '꿈', '에', '투', '숨', '강', '꽃', '랑', '까', '징', '걸', '센',\n",
    "         '언', '왕', '엄', '찌', '링', '빠', '껌', '토', '카', '치', '질', '켄', '왜', '뜻', '구', '성', '좌', '우', '충', '거', '태', '증',\n",
    "         '의', '저', '톱', '탁', '앎', '테', '섶', '림', '꼴', '팀', '액', '둑', '런', '탑', '룸', '싹', '락', '흉', '샘', '응', '송', '망',\n",
    "         '홀', '줄', '낫', '필', '빙', '팝', '빅', '작', '문', '민', '실', '심', '텐', '죤', '울', '키', '값', '릉', '철', '동', '금', '팬',\n",
    "         '홍', '창', '벡', '검', '깐', '칸', '휘', '율', '깃', '랩', '잎', '평', '숲', '논', '콜', '틱', '계', '류', '최', '축', '닐', '탄',\n",
    "         '힐', '윤', '산', '므', '잠', '헌', '짓', '곰', '택', '낭', '덫', '몽', '역', '란', '들', '샹', '뇨', '핫', '범', '댐', '칩', '록',\n",
    "         '외', '술', '빵', '궁', '뻘', '폴', '묘', '셤', '녜', '줌', '농', '샷', '삼', '찜', '와', '수', '먹', '펙', '초', '원', '폭', '혁',\n",
    "         '믹', '법', '끌', '핵', '온', '닻', '청', '멱', '펄', '뤼', '량', '복', '잡', '묵', '칙', '솔', '맨', '잔', '컴', '자', '휴', '밭',\n",
    "         '좀', '삽', '근', '접', '포', '썰', '땡', '탕', '붓', '펜', '탈', '벨', '솜', '댁', '램', '롤', '봉', '몬', '벽', '틀', '햄', '벼',\n",
    "         '꾀', '멋', '씨', '껀', '젤', '즙', '활', '석', '꽈', '몫', '뱃', '옥', '녹', '촉', '킥', '엔', '볕', '멀', '쇼', '첩', '터', '겁', \n",
    "         '젓', '굴', '행', '붕', '훔', '루', '놀', '론', '깨', '솥', '경', '출', '갭', '욕', '갱', '밴', '널', '털', '돗', '쾌', '죄', '붐',\n",
    "         '선스틱', '썬스틱', '구매', '제품', '사용', '느낌', '생각', '시나', '모로', \"개도\", \"데바르\", \"이면\", \"이건\", \"아악\", \"전이\", \"호가\", \"안보\",\n",
    "          \"군가\", \"지나\", \"리한\", \"여물\", \"바쿠\", \"바르\", \"쓰기\", \"하주\", \"이랑\"]"
   ]
  },
  {
   "cell_type": "code",
   "execution_count": 152,
   "id": "15ca16ce-b0ab-4ef8-8643-3d09a0b4de56",
   "metadata": {},
   "outputs": [
    {
     "data": {
      "application/vnd.jupyter.widget-view+json": {
       "model_id": "936a5d3648074b39af7d1ff4a6dd50f0",
       "version_major": 2,
       "version_minor": 0
      },
      "text/plain": [
       "  0%|          | 0/14358 [00:00<?, ?it/s]"
      ]
     },
     "metadata": {},
     "output_type": "display_data"
    }
   ],
   "source": [
    "tmp = []\n",
    "\n",
    "for sentence in tqdm(df[\"review\"]):\n",
    "    try:\n",
    "        clean_sentence = clean_text(sentence)  # 특수문자 및 비유니코드 문자 제거\n",
    "        tokens = komoran.pos(clean_sentence)\n",
    "        nouns = [x[0] for x in tokens if x[1] in (\"NNG\", \"NNP\") and x[0] not in outword]\n",
    "        tmp.append(nouns)\n",
    "    except:\n",
    "        print(f\"Error processing sentence: {sentence}\")\n",
    "        tmp.append([])  # 문제가 있는 경우 빈 리스트를 추가"
   ]
  },
  {
   "cell_type": "code",
   "execution_count": 153,
   "id": "c40198bd-3571-41b0-a09e-5b3fe70b3856",
   "metadata": {},
   "outputs": [],
   "source": [
    "df[\"tokens\"] = tmp"
   ]
  },
  {
   "cell_type": "code",
   "execution_count": 154,
   "id": "c8a95956-175b-4a33-baff-c334f6474013",
   "metadata": {},
   "outputs": [
    {
     "data": {
      "text/plain": [
       "['무조건', '이거', '처음', '출시', '생기', '톤업', '이름', '식물나라', '톤업', '최고', '최고']"
      ]
     },
     "execution_count": 154,
     "metadata": {},
     "output_type": "execute_result"
    }
   ],
   "source": [
    "df[\"tokens\"][0]"
   ]
  },
  {
   "cell_type": "code",
   "execution_count": 155,
   "id": "2867239d-01a9-4474-858e-f22f5c88a387",
   "metadata": {},
   "outputs": [],
   "source": [
    "df.to_csv(\"./crawling/data/suncushion_review_token.csv\", encoding = \"utf-8\", index = False)"
   ]
  },
  {
   "cell_type": "code",
   "execution_count": null,
   "id": "a479e39b-e49d-4548-b3cc-ae48cb73e108",
   "metadata": {},
   "outputs": [],
   "source": []
  }
 ],
 "metadata": {
  "kernelspec": {
   "display_name": "Python 3 (ipykernel)",
   "language": "python",
   "name": "python3"
  },
  "language_info": {
   "codemirror_mode": {
    "name": "ipython",
    "version": 3
   },
   "file_extension": ".py",
   "mimetype": "text/x-python",
   "name": "python",
   "nbconvert_exporter": "python",
   "pygments_lexer": "ipython3",
   "version": "3.12.4"
  }
 },
 "nbformat": 4,
 "nbformat_minor": 5
}
