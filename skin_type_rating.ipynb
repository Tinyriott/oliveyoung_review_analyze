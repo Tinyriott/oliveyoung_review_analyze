{
 "cells": [
  {
   "cell_type": "code",
   "execution_count": 1,
   "id": "7648944d-ff27-4ef8-b433-b04e12ad006d",
   "metadata": {},
   "outputs": [],
   "source": [
    "import pandas as pd\n",
    "import matplotlib.pyplot as plt\n",
    "from matplotlib import font_manager, rc\n",
    "from tqdm.notebook import tqdm\n",
    "\n",
    "plt.rc(\"font\", family=\"AppleGothic\")"
   ]
  },
  {
   "cell_type": "code",
   "execution_count": 35,
   "id": "a7e7ebb5-1cc5-4b67-8120-244617d51c76",
   "metadata": {},
   "outputs": [],
   "source": [
    "suncushion_df = pd.read_csv(\"./crawling/data/suncushion_review_final.csv\",encoding=\"utf-8\")"
   ]
  },
  {
   "cell_type": "code",
   "execution_count": 36,
   "id": "069ac3e5-9bd8-4aae-b6dc-24a179fbbac5",
   "metadata": {
    "scrolled": true
   },
   "outputs": [],
   "source": [
    "suncushion_df['skin_type'] = suncushion_df['skin_type'].apply(lambda x: eval(x)[0] if isinstance(eval(x), list) and len(eval(x)) > 0 else \"\")"
   ]
  },
  {
   "cell_type": "code",
   "execution_count": 37,
   "id": "a49d5ecc-7970-4887-83ec-608708491fa2",
   "metadata": {},
   "outputs": [
    {
     "data": {
      "application/vnd.jupyter.widget-view+json": {
       "model_id": "62e7ba23a9ad4822a8d6167a434355d0",
       "version_major": 2,
       "version_minor": 0
      },
      "text/plain": [
       "  0%|          | 0/14358 [00:00<?, ?it/s]"
      ]
     },
     "metadata": {},
     "output_type": "display_data"
    }
   ],
   "source": [
    "tqdm.pandas()\n",
    "\n",
    "suncushion_df[\"star\"] = suncushion_df[\"star\"].progress_apply(lambda x: int(x.split(\" \")[1][0]))"
   ]
  },
  {
   "cell_type": "code",
   "execution_count": 38,
   "id": "17fb51e3-bdef-4976-9b7a-86f1ac120729",
   "metadata": {},
   "outputs": [
    {
     "data": {
      "text/plain": [
       "array(['식물나라 뽀얀쌀 생기 톤업 선쿠션 보노보노 기획 2종 (01호/02호)',\n",
       "       '[파데프리/프롬젤라PICK] 톤핏선 비건 핑베 톤업 선쿠션 SPF50+ PA++++',\n",
       "       '식물나라 뽀얀쌀 생기 톤업 선 쿠션 단품(01 뽀얀 화이트/02생기 피치)',\n",
       "       '[NEW] 브링그린 티트리시카톤업선쿠션 리필기획(배스킨콜라보)',\n",
       "       '[수분쿨링] 라운드랩 자작나무 수분 선쿠션 15g',\n",
       "       '[1+1][간편밀착] 달바 워터풀 톤업 선 쿠션 듀오 기획(15g+15g)',\n",
       "       '브링그린 티트리시카톤업선쿠션 15g_NEW', '[배라콜라보] 브링그린 티트리시카 선 3종(선크림/선스틱/선쿠션)',\n",
       "       '[오롤리콜라보]AGE20S 핑크 수분광 글로우핏 톤업 선팩트 12.5g*2 (+파우치, 스티커 증정)',\n",
       "       '[NEW] 아떼 속광 톤업 선쿠션 SPF50+/PA++++  ',\n",
       "       '(1+1) 카트린 내추럴100 썬킬RX 선파우더 SPF46 PA+++ ',\n",
       "       '셀퓨전씨 토닝 썬쿠션 13g SPF 50+/PA++++',\n",
       "       '[스티커 증정]그린핑거 포레스트 멀티 디펜스 선쿠션 산리오 에디션 2종(시나모롤/헬로키티)',\n",
       "       '[NEW/민감진정]AGE20S 선 에센스 팩트 무기자차 카밍 롱 프로텍션 12.5g (본품+리필)',\n",
       "       'AHC 세이프온 마일드 선 쿠션 25g', '빌리프 해피보 선 메탈 쿠션 15g',\n",
       "       '스킨앤랩 베리어덤 마일드 선 쿠션 15g (+리필 15g 증정)', '롬앤 백미 톤업 선 쿠션',\n",
       "       '[무기자차/더보이즈 큐PICK]듀이트리 어반쉐이드 커버 앤 핏 선쿠션 14g',\n",
       "       '[오롤리콜라보]AGE20S 선 에센스팩트 카밍 롱 프로텍션 12.5g*2 (+파우치, 스티커 증정)',\n",
       "       '카트린 내추럴100 썬킬RX 선파우더 SPF46 PA+++ ', '마르시끄 세럼 톤업 선쿠션 12g',\n",
       "       '[생기톤업] 달바 워터풀 톤업 선 쿠션 15g', '[톤업탄력] 블리브유 콜라겐 바운싱 선쿠션 24g',\n",
       "       '[쿨링자차] 달바 워터풀 프레쉬 선 쿠션 25g',\n",
       "       '[선착순선로션10g추가증정]궁중비책 모이스처 선쿠션 마일드 14g 리필기획 (+14g 리필)',\n",
       "       '[세븐틴 승관PICK] 그린핑거 포레스트 멀티디펜스 선쿠션 13g 본품/리필 택1',\n",
       "       '[파데프리] 넘버즈인 3번 도자기결 고이빚은 세라믹쿠션 SPF50+ PA++++',\n",
       "       '[NEW/핑크톤업]AGE20S 글로우 핏 수분광 톤업 선팩트 12.5g (본품+리필)',\n",
       "       '[NEW] 라끌랑 슈퍼시카 톤업 선쿠션 24g',\n",
       "       '김정문알로에 큐어 아쿠아 마일드 쿨링 선쿠션 리필 기획(25g+리필)'], dtype=object)"
      ]
     },
     "execution_count": 38,
     "metadata": {},
     "output_type": "execute_result"
    }
   ],
   "source": [
    "suncushion_df[\"product_name\"].unique()"
   ]
  },
  {
   "cell_type": "code",
   "execution_count": 39,
   "id": "9e33d4cc-2ae3-485f-afcb-9d39362ed7bc",
   "metadata": {},
   "outputs": [],
   "source": [
    "d = {}\n",
    "\n",
    "for product in suncushion_df[\"product_name\"].unique():\n",
    "    if len(suncushion_df[suncushion_df[\"product_name\"] == product]) >= 100:\n",
    "        avg = suncushion_df[suncushion_df[\"product_name\"] == product][\"star\"].mean()\n",
    "        d[product] = avg"
   ]
  },
  {
   "cell_type": "code",
   "execution_count": 40,
   "id": "91c487b8-7770-4982-a352-93616315bbb7",
   "metadata": {},
   "outputs": [],
   "source": [
    "a = sorted(d.items(), key = lambda x: x[1], reverse = True)"
   ]
  },
  {
   "cell_type": "code",
   "execution_count": 41,
   "id": "b89fc004-5af0-4a6e-a96e-80772b53e09f",
   "metadata": {},
   "outputs": [
    {
     "data": {
      "text/plain": [
       "[('[스티커 증정]그린핑거 포레스트 멀티 디펜스 선쿠션 산리오 에디션 2종(시나모롤/헬로키티)', 4.877505567928731),\n",
       " ('[NEW] 아떼 속광 톤업 선쿠션 SPF50+/PA++++  ', 4.867567567567567),\n",
       " ('[NEW/민감진정]AGE20S 선 에센스 팩트 무기자차 카밍 롱 프로텍션 12.5g (본품+리필)', 4.825),\n",
       " ('[오롤리콜라보]AGE20S 선 에센스팩트 카밍 롱 프로텍션 12.5g*2 (+파우치, 스티커 증정)', 4.793),\n",
       " ('[파데프리/프롬젤라PICK] 톤핏선 비건 핑베 톤업 선쿠션 SPF50+ PA++++', 4.731731731731732),\n",
       " ('식물나라 뽀얀쌀 생기 톤업 선쿠션 보노보노 기획 2종 (01호/02호)', 4.686),\n",
       " ('식물나라 뽀얀쌀 생기 톤업 선 쿠션 단품(01 뽀얀 화이트/02생기 피치)', 4.67),\n",
       " ('[1+1][간편밀착] 달바 워터풀 톤업 선 쿠션 듀오 기획(15g+15g)', 4.648936170212766),\n",
       " ('[NEW] 브링그린 티트리시카톤업선쿠션 리필기획(배스킨콜라보)', 4.637),\n",
       " ('브링그린 티트리시카톤업선쿠션 15g_NEW', 4.637),\n",
       " ('AHC 세이프온 마일드 선 쿠션 25g', 4.611),\n",
       " ('[생기톤업] 달바 워터풀 톤업 선 쿠션 15g', 4.60337552742616),\n",
       " ('[수분쿨링] 라운드랩 자작나무 수분 선쿠션 15g', 4.584),\n",
       " ('셀퓨전씨 토닝 썬쿠션 13g SPF 50+/PA++++', 4.582633053221288),\n",
       " ('김정문알로에 큐어 아쿠아 마일드 쿨링 선쿠션 리필 기획(25g+리필)', 4.568690095846645),\n",
       " ('[배라콜라보] 브링그린 티트리시카 선 3종(선크림/선스틱/선쿠션)', 4.553),\n",
       " ('[오롤리콜라보]AGE20S 핑크 수분광 글로우핏 톤업 선팩트 12.5g*2 (+파우치, 스티커 증정)',\n",
       "  4.550387596899225),\n",
       " ('[파데프리] 넘버즈인 3번 도자기결 고이빚은 세라믹쿠션 SPF50+ PA++++', 4.443820224719101),\n",
       " ('[무기자차/더보이즈 큐PICK]듀이트리 어반쉐이드 커버 앤 핏 선쿠션 14g', 4.431330472103005),\n",
       " ('카트린 내추럴100 썬킬RX 선파우더 SPF46 PA+++ ', 4.294573643410852)]"
      ]
     },
     "execution_count": 41,
     "metadata": {},
     "output_type": "execute_result"
    }
   ],
   "source": [
    "a"
   ]
  },
  {
   "cell_type": "code",
   "execution_count": 43,
   "id": "e03e49c6-4970-42d3-b665-d7e126f011d3",
   "metadata": {},
   "outputs": [],
   "source": [
    "suncushion_top10_product_list = []\n",
    "suncushion_lower10_product_list = []"
   ]
  },
  {
   "cell_type": "code",
   "execution_count": 46,
   "id": "c7c234c6-47d1-46e7-a19f-5823cfe7a07e",
   "metadata": {},
   "outputs": [],
   "source": [
    "for name, rate in a[:10]:\n",
    "    suncushion_top10_product_list.append(str(name))"
   ]
  },
  {
   "cell_type": "code",
   "execution_count": 47,
   "id": "e9c750e9-cf57-4694-a375-e9cf7fef0c55",
   "metadata": {},
   "outputs": [
    {
     "data": {
      "text/plain": [
       "['[스티커 증정]그린핑거 포레스트 멀티 디펜스 선쿠션 산리오 에디션 2종(시나모롤/헬로키티)',\n",
       " '[NEW] 아떼 속광 톤업 선쿠션 SPF50+/PA++++  ',\n",
       " '[NEW/민감진정]AGE20S 선 에센스 팩트 무기자차 카밍 롱 프로텍션 12.5g (본품+리필)',\n",
       " '[오롤리콜라보]AGE20S 선 에센스팩트 카밍 롱 프로텍션 12.5g*2 (+파우치, 스티커 증정)',\n",
       " '[파데프리/프롬젤라PICK] 톤핏선 비건 핑베 톤업 선쿠션 SPF50+ PA++++',\n",
       " '식물나라 뽀얀쌀 생기 톤업 선쿠션 보노보노 기획 2종 (01호/02호)',\n",
       " '식물나라 뽀얀쌀 생기 톤업 선 쿠션 단품(01 뽀얀 화이트/02생기 피치)',\n",
       " '[1+1][간편밀착] 달바 워터풀 톤업 선 쿠션 듀오 기획(15g+15g)',\n",
       " '[NEW] 브링그린 티트리시카톤업선쿠션 리필기획(배스킨콜라보)',\n",
       " '브링그린 티트리시카톤업선쿠션 15g_NEW']"
      ]
     },
     "execution_count": 47,
     "metadata": {},
     "output_type": "execute_result"
    }
   ],
   "source": [
    "suncushion_top10_product_list"
   ]
  },
  {
   "cell_type": "code",
   "execution_count": 45,
   "id": "c33b8a71-2fae-42cb-98e0-f336f4a188ac",
   "metadata": {},
   "outputs": [
    {
     "data": {
      "text/plain": [
       "['AHC 세이프온 마일드 선 쿠션 25g',\n",
       " '[생기톤업] 달바 워터풀 톤업 선 쿠션 15g',\n",
       " '[수분쿨링] 라운드랩 자작나무 수분 선쿠션 15g',\n",
       " '셀퓨전씨 토닝 썬쿠션 13g SPF 50+/PA++++',\n",
       " '김정문알로에 큐어 아쿠아 마일드 쿨링 선쿠션 리필 기획(25g+리필)',\n",
       " '[배라콜라보] 브링그린 티트리시카 선 3종(선크림/선스틱/선쿠션)',\n",
       " '[오롤리콜라보]AGE20S 핑크 수분광 글로우핏 톤업 선팩트 12.5g*2 (+파우치, 스티커 증정)',\n",
       " '[파데프리] 넘버즈인 3번 도자기결 고이빚은 세라믹쿠션 SPF50+ PA++++',\n",
       " '[무기자차/더보이즈 큐PICK]듀이트리 어반쉐이드 커버 앤 핏 선쿠션 14g',\n",
       " '카트린 내추럴100 썬킬RX 선파우더 SPF46 PA+++ ']"
      ]
     },
     "execution_count": 45,
     "metadata": {},
     "output_type": "execute_result"
    }
   ],
   "source": [
    "suncushion_lower10_product_list"
   ]
  },
  {
   "cell_type": "code",
   "execution_count": 48,
   "id": "6f272a2b-6cd6-483a-8fb5-95830933d99d",
   "metadata": {},
   "outputs": [],
   "source": [
    "Bottom_filtered_df = suncushion_df[suncushion_df['product_name'].isin(suncushion_lower10_product_list)]"
   ]
  },
  {
   "cell_type": "code",
   "execution_count": 49,
   "id": "dda10cd3-c040-42a9-a2f2-813958c2b938",
   "metadata": {},
   "outputs": [],
   "source": [
    "skin_type_mean_ratings = Bottom_filtered_df.groupby(['product_name', 'skin_type'])['star'].mean().unstack()"
   ]
  },
  {
   "cell_type": "code",
   "execution_count": 50,
   "id": "44566497-5102-4579-8114-d867a6321277",
   "metadata": {},
   "outputs": [],
   "source": [
    "selected_columns = ['건성','민감성','복합성','중성','지성','트러블성']"
   ]
  },
  {
   "cell_type": "code",
   "execution_count": 51,
   "id": "4fda82b3-b56d-47d8-a9c5-115d0055fe44",
   "metadata": {},
   "outputs": [
    {
     "data": {
      "text/html": [
       "<div>\n",
       "<style scoped>\n",
       "    .dataframe tbody tr th:only-of-type {\n",
       "        vertical-align: middle;\n",
       "    }\n",
       "\n",
       "    .dataframe tbody tr th {\n",
       "        vertical-align: top;\n",
       "    }\n",
       "\n",
       "    .dataframe thead th {\n",
       "        text-align: right;\n",
       "    }\n",
       "</style>\n",
       "<table border=\"1\" class=\"dataframe\">\n",
       "  <thead>\n",
       "    <tr style=\"text-align: right;\">\n",
       "      <th>skin_type</th>\n",
       "      <th>건성</th>\n",
       "      <th>민감성</th>\n",
       "      <th>복합성</th>\n",
       "      <th>중성</th>\n",
       "      <th>지성</th>\n",
       "      <th>트러블성</th>\n",
       "    </tr>\n",
       "    <tr>\n",
       "      <th>product_name</th>\n",
       "      <th></th>\n",
       "      <th></th>\n",
       "      <th></th>\n",
       "      <th></th>\n",
       "      <th></th>\n",
       "      <th></th>\n",
       "    </tr>\n",
       "  </thead>\n",
       "  <tbody>\n",
       "    <tr>\n",
       "      <th>AHC 세이프온 마일드 선 쿠션 25g</th>\n",
       "      <td>4.617978</td>\n",
       "      <td>4.558140</td>\n",
       "      <td>4.720588</td>\n",
       "      <td>3.5</td>\n",
       "      <td>4.594595</td>\n",
       "      <td>4.777778</td>\n",
       "    </tr>\n",
       "    <tr>\n",
       "      <th>[무기자차/더보이즈 큐PICK]듀이트리 어반쉐이드 커버 앤 핏 선쿠션 14g</th>\n",
       "      <td>4.520000</td>\n",
       "      <td>4.750000</td>\n",
       "      <td>4.500000</td>\n",
       "      <td>NaN</td>\n",
       "      <td>4.214286</td>\n",
       "      <td>4.850000</td>\n",
       "    </tr>\n",
       "    <tr>\n",
       "      <th>[배라콜라보] 브링그린 티트리시카 선 3종(선크림/선스틱/선쿠션)</th>\n",
       "      <td>4.524194</td>\n",
       "      <td>4.745098</td>\n",
       "      <td>4.544186</td>\n",
       "      <td>4.5</td>\n",
       "      <td>4.607595</td>\n",
       "      <td>4.777778</td>\n",
       "    </tr>\n",
       "    <tr>\n",
       "      <th>[생기톤업] 달바 워터풀 톤업 선 쿠션 15g</th>\n",
       "      <td>4.814815</td>\n",
       "      <td>4.454545</td>\n",
       "      <td>4.745455</td>\n",
       "      <td>5.0</td>\n",
       "      <td>4.714286</td>\n",
       "      <td>5.000000</td>\n",
       "    </tr>\n",
       "    <tr>\n",
       "      <th>[수분쿨링] 라운드랩 자작나무 수분 선쿠션 15g</th>\n",
       "      <td>4.672897</td>\n",
       "      <td>4.551020</td>\n",
       "      <td>4.638191</td>\n",
       "      <td>4.8</td>\n",
       "      <td>4.586207</td>\n",
       "      <td>4.600000</td>\n",
       "    </tr>\n",
       "    <tr>\n",
       "      <th>[오롤리콜라보]AGE20S 핑크 수분광 글로우핏 톤업 선팩트 12.5g*2 (+파우치, 스티커 증정)</th>\n",
       "      <td>4.600000</td>\n",
       "      <td>5.000000</td>\n",
       "      <td>4.500000</td>\n",
       "      <td>NaN</td>\n",
       "      <td>4.857143</td>\n",
       "      <td>4.666667</td>\n",
       "    </tr>\n",
       "    <tr>\n",
       "      <th>[파데프리] 넘버즈인 3번 도자기결 고이빚은 세라믹쿠션 SPF50+ PA++++</th>\n",
       "      <td>4.485714</td>\n",
       "      <td>4.285714</td>\n",
       "      <td>4.764706</td>\n",
       "      <td>NaN</td>\n",
       "      <td>4.520000</td>\n",
       "      <td>4.428571</td>\n",
       "    </tr>\n",
       "    <tr>\n",
       "      <th>김정문알로에 큐어 아쿠아 마일드 쿨링 선쿠션 리필 기획(25g+리필)</th>\n",
       "      <td>4.631579</td>\n",
       "      <td>4.222222</td>\n",
       "      <td>4.637931</td>\n",
       "      <td>5.0</td>\n",
       "      <td>4.777778</td>\n",
       "      <td>4.857143</td>\n",
       "    </tr>\n",
       "    <tr>\n",
       "      <th>셀퓨전씨 토닝 썬쿠션 13g SPF 50+/PA++++</th>\n",
       "      <td>4.360000</td>\n",
       "      <td>4.923077</td>\n",
       "      <td>4.607143</td>\n",
       "      <td>5.0</td>\n",
       "      <td>4.500000</td>\n",
       "      <td>5.000000</td>\n",
       "    </tr>\n",
       "    <tr>\n",
       "      <th>카트린 내추럴100 썬킬RX 선파우더 SPF46 PA+++</th>\n",
       "      <td>4.545455</td>\n",
       "      <td>4.000000</td>\n",
       "      <td>4.076923</td>\n",
       "      <td>NaN</td>\n",
       "      <td>4.000000</td>\n",
       "      <td>5.000000</td>\n",
       "    </tr>\n",
       "  </tbody>\n",
       "</table>\n",
       "</div>"
      ],
      "text/plain": [
       "skin_type                                                 건성       민감성  \\\n",
       "product_name                                                             \n",
       "AHC 세이프온 마일드 선 쿠션 25g                               4.617978  4.558140   \n",
       "[무기자차/더보이즈 큐PICK]듀이트리 어반쉐이드 커버 앤 핏 선쿠션 14g          4.520000  4.750000   \n",
       "[배라콜라보] 브링그린 티트리시카 선 3종(선크림/선스틱/선쿠션)                4.524194  4.745098   \n",
       "[생기톤업] 달바 워터풀 톤업 선 쿠션 15g                           4.814815  4.454545   \n",
       "[수분쿨링] 라운드랩 자작나무 수분 선쿠션 15g                         4.672897  4.551020   \n",
       "[오롤리콜라보]AGE20S 핑크 수분광 글로우핏 톤업 선팩트 12.5g*2 (+파우치...  4.600000  5.000000   \n",
       "[파데프리] 넘버즈인 3번 도자기결 고이빚은 세라믹쿠션 SPF50+ PA++++        4.485714  4.285714   \n",
       "김정문알로에 큐어 아쿠아 마일드 쿨링 선쿠션 리필 기획(25g+리필)              4.631579  4.222222   \n",
       "셀퓨전씨 토닝 썬쿠션 13g SPF 50+/PA++++                      4.360000  4.923077   \n",
       "카트린 내추럴100 썬킬RX 선파우더 SPF46 PA+++                    4.545455  4.000000   \n",
       "\n",
       "skin_type                                                복합성   중성        지성  \\\n",
       "product_name                                                                  \n",
       "AHC 세이프온 마일드 선 쿠션 25g                               4.720588  3.5  4.594595   \n",
       "[무기자차/더보이즈 큐PICK]듀이트리 어반쉐이드 커버 앤 핏 선쿠션 14g          4.500000  NaN  4.214286   \n",
       "[배라콜라보] 브링그린 티트리시카 선 3종(선크림/선스틱/선쿠션)                4.544186  4.5  4.607595   \n",
       "[생기톤업] 달바 워터풀 톤업 선 쿠션 15g                           4.745455  5.0  4.714286   \n",
       "[수분쿨링] 라운드랩 자작나무 수분 선쿠션 15g                         4.638191  4.8  4.586207   \n",
       "[오롤리콜라보]AGE20S 핑크 수분광 글로우핏 톤업 선팩트 12.5g*2 (+파우치...  4.500000  NaN  4.857143   \n",
       "[파데프리] 넘버즈인 3번 도자기결 고이빚은 세라믹쿠션 SPF50+ PA++++        4.764706  NaN  4.520000   \n",
       "김정문알로에 큐어 아쿠아 마일드 쿨링 선쿠션 리필 기획(25g+리필)              4.637931  5.0  4.777778   \n",
       "셀퓨전씨 토닝 썬쿠션 13g SPF 50+/PA++++                      4.607143  5.0  4.500000   \n",
       "카트린 내추럴100 썬킬RX 선파우더 SPF46 PA+++                    4.076923  NaN  4.000000   \n",
       "\n",
       "skin_type                                               트러블성  \n",
       "product_name                                                  \n",
       "AHC 세이프온 마일드 선 쿠션 25g                               4.777778  \n",
       "[무기자차/더보이즈 큐PICK]듀이트리 어반쉐이드 커버 앤 핏 선쿠션 14g          4.850000  \n",
       "[배라콜라보] 브링그린 티트리시카 선 3종(선크림/선스틱/선쿠션)                4.777778  \n",
       "[생기톤업] 달바 워터풀 톤업 선 쿠션 15g                           5.000000  \n",
       "[수분쿨링] 라운드랩 자작나무 수분 선쿠션 15g                         4.600000  \n",
       "[오롤리콜라보]AGE20S 핑크 수분광 글로우핏 톤업 선팩트 12.5g*2 (+파우치...  4.666667  \n",
       "[파데프리] 넘버즈인 3번 도자기결 고이빚은 세라믹쿠션 SPF50+ PA++++        4.428571  \n",
       "김정문알로에 큐어 아쿠아 마일드 쿨링 선쿠션 리필 기획(25g+리필)              4.857143  \n",
       "셀퓨전씨 토닝 썬쿠션 13g SPF 50+/PA++++                      5.000000  \n",
       "카트린 내추럴100 썬킬RX 선파우더 SPF46 PA+++                    5.000000  "
      ]
     },
     "execution_count": 51,
     "metadata": {},
     "output_type": "execute_result"
    }
   ],
   "source": [
    "skin_type_mean_ratings[selected_columns]"
   ]
  },
  {
   "cell_type": "code",
   "execution_count": 52,
   "id": "cd8295b7-5f63-43a7-b198-c572dadfda88",
   "metadata": {},
   "outputs": [],
   "source": [
    "Top_filtered_df = suncushion_df[suncushion_df['product_name'].isin(suncushion_top10_product_list)]"
   ]
  },
  {
   "cell_type": "code",
   "execution_count": 53,
   "id": "90690a98-cd64-4ba9-8695-304a7e5ffa69",
   "metadata": {},
   "outputs": [],
   "source": [
    "skin_type_mean_ratings_top = Top_filtered_df.groupby(['product_name', 'skin_type'])['star'].mean().unstack()"
   ]
  },
  {
   "cell_type": "code",
   "execution_count": 54,
   "id": "1fdd0e43-2c1a-4d69-857e-b4def5c80ce4",
   "metadata": {},
   "outputs": [
    {
     "data": {
      "text/html": [
       "<div>\n",
       "<style scoped>\n",
       "    .dataframe tbody tr th:only-of-type {\n",
       "        vertical-align: middle;\n",
       "    }\n",
       "\n",
       "    .dataframe tbody tr th {\n",
       "        vertical-align: top;\n",
       "    }\n",
       "\n",
       "    .dataframe thead th {\n",
       "        text-align: right;\n",
       "    }\n",
       "</style>\n",
       "<table border=\"1\" class=\"dataframe\">\n",
       "  <thead>\n",
       "    <tr style=\"text-align: right;\">\n",
       "      <th>skin_type</th>\n",
       "      <th>건성</th>\n",
       "      <th>민감성</th>\n",
       "      <th>복합성</th>\n",
       "      <th>중성</th>\n",
       "      <th>지성</th>\n",
       "      <th>트러블성</th>\n",
       "    </tr>\n",
       "    <tr>\n",
       "      <th>product_name</th>\n",
       "      <th></th>\n",
       "      <th></th>\n",
       "      <th></th>\n",
       "      <th></th>\n",
       "      <th></th>\n",
       "      <th></th>\n",
       "    </tr>\n",
       "  </thead>\n",
       "  <tbody>\n",
       "    <tr>\n",
       "      <th>[1+1][간편밀착] 달바 워터풀 톤업 선 쿠션 듀오 기획(15g+15g)</th>\n",
       "      <td>4.746835</td>\n",
       "      <td>4.434783</td>\n",
       "      <td>4.758621</td>\n",
       "      <td>5.000000</td>\n",
       "      <td>4.533333</td>\n",
       "      <td>5.000000</td>\n",
       "    </tr>\n",
       "    <tr>\n",
       "      <th>[NEW/민감진정]AGE20S 선 에센스 팩트 무기자차 카밍 롱 프로텍션 12.5g (본품+리필)</th>\n",
       "      <td>4.786885</td>\n",
       "      <td>4.600000</td>\n",
       "      <td>4.872000</td>\n",
       "      <td>4.750000</td>\n",
       "      <td>4.953846</td>\n",
       "      <td>4.793103</td>\n",
       "    </tr>\n",
       "    <tr>\n",
       "      <th>[NEW] 브링그린 티트리시카톤업선쿠션 리필기획(배스킨콜라보)</th>\n",
       "      <td>4.725000</td>\n",
       "      <td>4.741935</td>\n",
       "      <td>4.644737</td>\n",
       "      <td>4.000000</td>\n",
       "      <td>4.645833</td>\n",
       "      <td>4.826087</td>\n",
       "    </tr>\n",
       "    <tr>\n",
       "      <th>[NEW] 아떼 속광 톤업 선쿠션 SPF50+/PA++++</th>\n",
       "      <td>4.971429</td>\n",
       "      <td>4.444444</td>\n",
       "      <td>4.804348</td>\n",
       "      <td>NaN</td>\n",
       "      <td>4.880000</td>\n",
       "      <td>3.000000</td>\n",
       "    </tr>\n",
       "    <tr>\n",
       "      <th>[스티커 증정]그린핑거 포레스트 멀티 디펜스 선쿠션 산리오 에디션 2종(시나모롤/헬로키티)</th>\n",
       "      <td>4.600000</td>\n",
       "      <td>5.000000</td>\n",
       "      <td>4.934783</td>\n",
       "      <td>NaN</td>\n",
       "      <td>4.833333</td>\n",
       "      <td>5.000000</td>\n",
       "    </tr>\n",
       "    <tr>\n",
       "      <th>[오롤리콜라보]AGE20S 선 에센스팩트 카밍 롱 프로텍션 12.5g*2 (+파우치, 스티커 증정)</th>\n",
       "      <td>4.792793</td>\n",
       "      <td>4.585366</td>\n",
       "      <td>4.856502</td>\n",
       "      <td>5.000000</td>\n",
       "      <td>4.910714</td>\n",
       "      <td>4.851852</td>\n",
       "    </tr>\n",
       "    <tr>\n",
       "      <th>[파데프리/프롬젤라PICK] 톤핏선 비건 핑베 톤업 선쿠션 SPF50+ PA++++</th>\n",
       "      <td>4.745763</td>\n",
       "      <td>4.815789</td>\n",
       "      <td>4.581395</td>\n",
       "      <td>4.363636</td>\n",
       "      <td>4.660377</td>\n",
       "      <td>4.625000</td>\n",
       "    </tr>\n",
       "    <tr>\n",
       "      <th>브링그린 티트리시카톤업선쿠션 15g_NEW</th>\n",
       "      <td>4.725000</td>\n",
       "      <td>4.741935</td>\n",
       "      <td>4.647059</td>\n",
       "      <td>4.000000</td>\n",
       "      <td>4.645833</td>\n",
       "      <td>4.826087</td>\n",
       "    </tr>\n",
       "    <tr>\n",
       "      <th>식물나라 뽀얀쌀 생기 톤업 선 쿠션 단품(01 뽀얀 화이트/02생기 피치)</th>\n",
       "      <td>4.566667</td>\n",
       "      <td>4.906977</td>\n",
       "      <td>4.670732</td>\n",
       "      <td>4.833333</td>\n",
       "      <td>4.812500</td>\n",
       "      <td>4.454545</td>\n",
       "    </tr>\n",
       "    <tr>\n",
       "      <th>식물나라 뽀얀쌀 생기 톤업 선쿠션 보노보노 기획 2종 (01호/02호)</th>\n",
       "      <td>4.617284</td>\n",
       "      <td>4.880952</td>\n",
       "      <td>4.696774</td>\n",
       "      <td>4.750000</td>\n",
       "      <td>4.819444</td>\n",
       "      <td>4.454545</td>\n",
       "    </tr>\n",
       "  </tbody>\n",
       "</table>\n",
       "</div>"
      ],
      "text/plain": [
       "skin_type                                                 건성       민감성  \\\n",
       "product_name                                                             \n",
       "[1+1][간편밀착] 달바 워터풀 톤업 선 쿠션 듀오 기획(15g+15g)           4.746835  4.434783   \n",
       "[NEW/민감진정]AGE20S 선 에센스 팩트 무기자차 카밍 롱 프로텍션 12.5g ...  4.786885  4.600000   \n",
       "[NEW] 브링그린 티트리시카톤업선쿠션 리필기획(배스킨콜라보)                  4.725000  4.741935   \n",
       "[NEW] 아떼 속광 톤업 선쿠션 SPF50+/PA++++                    4.971429  4.444444   \n",
       "[스티커 증정]그린핑거 포레스트 멀티 디펜스 선쿠션 산리오 에디션 2종(시나모롤/헬로키티)  4.600000  5.000000   \n",
       "[오롤리콜라보]AGE20S 선 에센스팩트 카밍 롱 프로텍션 12.5g*2 (+파우치,...  4.792793  4.585366   \n",
       "[파데프리/프롬젤라PICK] 톤핏선 비건 핑베 톤업 선쿠션 SPF50+ PA++++      4.745763  4.815789   \n",
       "브링그린 티트리시카톤업선쿠션 15g_NEW                             4.725000  4.741935   \n",
       "식물나라 뽀얀쌀 생기 톤업 선 쿠션 단품(01 뽀얀 화이트/02생기 피치)           4.566667  4.906977   \n",
       "식물나라 뽀얀쌀 생기 톤업 선쿠션 보노보노 기획 2종 (01호/02호)             4.617284  4.880952   \n",
       "\n",
       "skin_type                                                복합성        중성  \\\n",
       "product_name                                                             \n",
       "[1+1][간편밀착] 달바 워터풀 톤업 선 쿠션 듀오 기획(15g+15g)           4.758621  5.000000   \n",
       "[NEW/민감진정]AGE20S 선 에센스 팩트 무기자차 카밍 롱 프로텍션 12.5g ...  4.872000  4.750000   \n",
       "[NEW] 브링그린 티트리시카톤업선쿠션 리필기획(배스킨콜라보)                  4.644737  4.000000   \n",
       "[NEW] 아떼 속광 톤업 선쿠션 SPF50+/PA++++                    4.804348       NaN   \n",
       "[스티커 증정]그린핑거 포레스트 멀티 디펜스 선쿠션 산리오 에디션 2종(시나모롤/헬로키티)  4.934783       NaN   \n",
       "[오롤리콜라보]AGE20S 선 에센스팩트 카밍 롱 프로텍션 12.5g*2 (+파우치,...  4.856502  5.000000   \n",
       "[파데프리/프롬젤라PICK] 톤핏선 비건 핑베 톤업 선쿠션 SPF50+ PA++++      4.581395  4.363636   \n",
       "브링그린 티트리시카톤업선쿠션 15g_NEW                             4.647059  4.000000   \n",
       "식물나라 뽀얀쌀 생기 톤업 선 쿠션 단품(01 뽀얀 화이트/02생기 피치)           4.670732  4.833333   \n",
       "식물나라 뽀얀쌀 생기 톤업 선쿠션 보노보노 기획 2종 (01호/02호)             4.696774  4.750000   \n",
       "\n",
       "skin_type                                                 지성      트러블성  \n",
       "product_name                                                            \n",
       "[1+1][간편밀착] 달바 워터풀 톤업 선 쿠션 듀오 기획(15g+15g)           4.533333  5.000000  \n",
       "[NEW/민감진정]AGE20S 선 에센스 팩트 무기자차 카밍 롱 프로텍션 12.5g ...  4.953846  4.793103  \n",
       "[NEW] 브링그린 티트리시카톤업선쿠션 리필기획(배스킨콜라보)                  4.645833  4.826087  \n",
       "[NEW] 아떼 속광 톤업 선쿠션 SPF50+/PA++++                    4.880000  3.000000  \n",
       "[스티커 증정]그린핑거 포레스트 멀티 디펜스 선쿠션 산리오 에디션 2종(시나모롤/헬로키티)  4.833333  5.000000  \n",
       "[오롤리콜라보]AGE20S 선 에센스팩트 카밍 롱 프로텍션 12.5g*2 (+파우치,...  4.910714  4.851852  \n",
       "[파데프리/프롬젤라PICK] 톤핏선 비건 핑베 톤업 선쿠션 SPF50+ PA++++      4.660377  4.625000  \n",
       "브링그린 티트리시카톤업선쿠션 15g_NEW                             4.645833  4.826087  \n",
       "식물나라 뽀얀쌀 생기 톤업 선 쿠션 단품(01 뽀얀 화이트/02생기 피치)           4.812500  4.454545  \n",
       "식물나라 뽀얀쌀 생기 톤업 선쿠션 보노보노 기획 2종 (01호/02호)             4.819444  4.454545  "
      ]
     },
     "execution_count": 54,
     "metadata": {},
     "output_type": "execute_result"
    }
   ],
   "source": [
    "skin_type_mean_ratings_top[selected_columns]"
   ]
  },
  {
   "cell_type": "code",
   "execution_count": null,
   "id": "4568b8d6-aafe-4151-b226-9f0f8564cefc",
   "metadata": {},
   "outputs": [],
   "source": []
  },
  {
   "cell_type": "code",
   "execution_count": null,
   "id": "845a12d4-1654-456b-9fbe-d3699aa3acf5",
   "metadata": {},
   "outputs": [],
   "source": []
  }
 ],
 "metadata": {
  "kernelspec": {
   "display_name": "Python 3 (ipykernel)",
   "language": "python",
   "name": "python3"
  },
  "language_info": {
   "codemirror_mode": {
    "name": "ipython",
    "version": 3
   },
   "file_extension": ".py",
   "mimetype": "text/x-python",
   "name": "python",
   "nbconvert_exporter": "python",
   "pygments_lexer": "ipython3",
   "version": "3.12.4"
  }
 },
 "nbformat": 4,
 "nbformat_minor": 5
}
